{
 "cells": [
  {
   "cell_type": "code",
   "execution_count": null,
   "metadata": {
    "scrolled": true
   },
   "outputs": [],
   "source": []
  },
  {
   "cell_type": "code",
   "execution_count": null,
   "metadata": {},
   "outputs": [],
   "source": [
    "#Class 1: Burger"
   ]
  },
  {
   "cell_type": "code",
   "execution_count": null,
   "metadata": {},
   "outputs": [],
   "source": [
    "from PIL import Image\n",
    "import numpy as np\n",
    "import os\n",
    "from random import shuffle\n",
    "import matplotlib.pyplot as plt\n",
    "\n",
    "DIR ='C:\\Yelp\\Train'\n",
    "\n",
    "# Want to know how we should format the height x width image data dimensions\n",
    "# for inputting to a keras model\n",
    "def get_size_statistics():\n",
    "    heights = []\n",
    "    widths = []\n",
    "    img_count = 0\n",
    "    for img in os.listdir(DIR):\n",
    "        path = os.path.join(DIR, img)\n",
    "        if \"DS_Store\" not in path:\n",
    "            data = np.array(Image.open(path))\n",
    "            heights.append(data.shape[0])\n",
    "            widths.append(data.shape[1])\n",
    "            img_count += 1\n",
    "    avg_height = sum(heights) / len(heights)\n",
    "    avg_width = sum(widths) / len(widths)\n",
    "    print(\"Average Height: \" + str(avg_height))\n",
    "    print(\"Max Height: \" + str(max(heights)))\n",
    "    print(\"Min Height: \" + str(min(heights)))\n",
    "    print('\\n')\n",
    "    print(\"Average Width: \" + str(avg_width))\n",
    "    print(\"Max Width: \" + str(max(widths)))\n",
    "    print(\"Min Width: \" + str(min(widths)))\n",
    "get_size_statistics()"
   ]
  },
  {
   "cell_type": "code",
   "execution_count": 16,
   "metadata": {},
   "outputs": [],
   "source": [
    "def label_img(name):\n",
    "    word_label = name.split('(')[0]\n",
    "    #print(word_label)\n",
    "    if word_label == 'Burger ':  return 0\n",
    "    elif word_label == 'pizza ': return 1\n",
    "    elif word_label == 'Chicken ': return 1\n",
    "    elif word_label == 'Sweet ': return 1\n",
    "    elif word_label == 'Tacos ': return 1\n",
    "    elif word_label == 'Drink ': return 1"
   ]
  },
  {
   "cell_type": "code",
   "execution_count": 17,
   "metadata": {},
   "outputs": [],
   "source": [
    "IMG_SIZE = 256\n",
    "def load_training_data():\n",
    "    train_data = []\n",
    "    for img in os.listdir(DIR):\n",
    "        label = label_img(img)\n",
    "        path = os.path.join(DIR, img)\n",
    "        if \"DS_Store\" not in path:\n",
    "            img = Image.open(path)\n",
    "            img = img.convert('L')\n",
    "            img = img.resize((IMG_SIZE, IMG_SIZE), Image.ANTIALIAS)\n",
    "            train_data.append([np.array(img), label])\n",
    "            X_train=np.array(img)\n",
    "            Y_train=label\n",
    "    shuffle(train_data)\n",
    "    return train_data"
   ]
  },
  {
   "cell_type": "code",
   "execution_count": 18,
   "metadata": {},
   "outputs": [],
   "source": [
    "train_data = np.array(load_training_data())\n",
    "y=len(train_data)\n",
    "X=[]\n",
    "Y=[]"
   ]
  },
  {
   "cell_type": "code",
   "execution_count": 19,
   "metadata": {},
   "outputs": [],
   "source": [
    "for i in range(y-1):\n",
    "    img=np.array((train_data[i][0]).reshape(256,256))\n",
    "    X.append(img)\n",
    "    label=np.array(train_data[i][1])\n",
    "    Y.append(label)"
   ]
  },
  {
   "cell_type": "code",
   "execution_count": 20,
   "metadata": {},
   "outputs": [],
   "source": [
    "from sklearn.model_selection import train_test_split\n",
    "X_train, X_test, y_train, y_test = train_test_split(X, Y,\n",
    "                                                    random_state=42,\n",
    "                                                    test_size=0.20)"
   ]
  },
  {
   "cell_type": "code",
   "execution_count": 21,
   "metadata": {},
   "outputs": [],
   "source": [
    "X_train=np.array(X_train)\n",
    "y_train=np.array(y_train)\n",
    "X_test=np.array(X_test)\n",
    "y_test=np.array(y_test)"
   ]
  },
  {
   "cell_type": "code",
   "execution_count": 22,
   "metadata": {},
   "outputs": [
    {
     "name": "stdout",
     "output_type": "stream",
     "text": [
      "(286, 256, 256)\n",
      "(72, 256, 256)\n",
      "(286,)\n",
      "(72,)\n"
     ]
    }
   ],
   "source": [
    "print(X_train.shape)\n",
    "print(X_test.shape)\n",
    "print(y_train.shape)\n",
    "print(y_test.shape)"
   ]
  },
  {
   "cell_type": "code",
   "execution_count": 23,
   "metadata": {},
   "outputs": [],
   "source": [
    "import keras\n",
    "from keras.models import Sequential\n",
    "from keras.layers import Dense, Dropout, Flatten\n",
    "from keras.layers import Conv2D, MaxPooling2D\n",
    "from keras.layers. normalization import BatchNormalization\n",
    "from keras.utils import to_categorical\n",
    "import numpy as np"
   ]
  },
  {
   "cell_type": "code",
   "execution_count": 24,
   "metadata": {},
   "outputs": [
    {
     "name": "stderr",
     "output_type": "stream",
     "text": [
      "D:\\Python\\lib\\site-packages\\ipykernel_launcher.py:2: UserWarning: Update your `Conv2D` call to the Keras 2 API: `Conv2D(64, (3, 3), input_shape=(256, 256,..., activation=\"relu\")`\n",
      "  \n",
      "D:\\Python\\lib\\site-packages\\ipykernel_launcher.py:3: UserWarning: Update your `Conv2D` call to the Keras 2 API: `Conv2D(32, (3, 3), activation=\"relu\")`\n",
      "  This is separate from the ipykernel package so we can avoid doing imports until\n",
      "D:\\Python\\lib\\site-packages\\ipykernel_launcher.py:6: UserWarning: Update your `Dense` call to the Keras 2 API: `Dense(activation=\"sigmoid\", units=2)`\n",
      "  \n"
     ]
    }
   ],
   "source": [
    "classifier=Sequential()\n",
    "classifier.add(Conv2D(64,3,3,input_shape=(256,256,1),activation='relu'))\n",
    "classifier.add(Conv2D(32,3,3,activation='relu'))\n",
    "#classifier.add(MaxPooling2D(pool_size=(2,2)))\n",
    "classifier.add(Flatten())\n",
    "classifier.add(Dense(output_dim=2,activation='sigmoid'))\n",
    "classifier.compile(optimizer='adam',loss='categorical_crossentropy',metrics=['accuracy'])"
   ]
  },
  {
   "cell_type": "code",
   "execution_count": 25,
   "metadata": {},
   "outputs": [],
   "source": [
    "X_train = X_train.reshape(286,256,256,1)\n",
    "X_test = X_test.reshape(72,256,256,1)\n",
    "from keras.preprocessing.image import ImageDataGenerator\n",
    "from keras.utils import to_categorical\n",
    "y_train = to_categorical(y_train)\n",
    "y_test = to_categorical(y_test)"
   ]
  },
  {
   "cell_type": "code",
   "execution_count": 26,
   "metadata": {
    "scrolled": true
   },
   "outputs": [
    {
     "name": "stdout",
     "output_type": "stream",
     "text": [
      "_________________________________________________________________\n",
      "Layer (type)                 Output Shape              Param #   \n",
      "=================================================================\n",
      "conv2d_3 (Conv2D)            (None, 254, 254, 64)      640       \n",
      "_________________________________________________________________\n",
      "conv2d_4 (Conv2D)            (None, 252, 252, 32)      18464     \n",
      "_________________________________________________________________\n",
      "flatten_2 (Flatten)          (None, 2032128)           0         \n",
      "_________________________________________________________________\n",
      "dense_2 (Dense)              (None, 2)                 4064258   \n",
      "=================================================================\n",
      "Total params: 4,083,362\n",
      "Trainable params: 4,083,362\n",
      "Non-trainable params: 0\n",
      "_________________________________________________________________\n"
     ]
    }
   ],
   "source": [
    "classifier.summary()"
   ]
  },
  {
   "cell_type": "code",
   "execution_count": 27,
   "metadata": {},
   "outputs": [
    {
     "name": "stdout",
     "output_type": "stream",
     "text": [
      "Train on 286 samples, validate on 72 samples\n",
      "Epoch 1/3\n",
      "286/286 [==============================] - 62s 215ms/step - loss: 0.7803 - acc: 0.2762 - val_loss: 0.6931 - val_acc: 0.3056\n",
      "Epoch 2/3\n",
      "286/286 [==============================] - 63s 220ms/step - loss: 0.6931 - acc: 0.2692 - val_loss: 0.6931 - val_acc: 0.3056\n",
      "Epoch 3/3\n",
      "286/286 [==============================] - 65s 226ms/step - loss: 0.6931 - acc: 0.2692 - val_loss: 0.6931 - val_acc: 0.3056\n"
     ]
    },
    {
     "data": {
      "text/plain": [
       "<keras.callbacks.History at 0x21412e2a550>"
      ]
     },
     "execution_count": 27,
     "metadata": {},
     "output_type": "execute_result"
    }
   ],
   "source": [
    "classifier.fit(X_train, y_train, validation_data=(X_test, y_test), epochs=3)"
   ]
  },
  {
   "cell_type": "code",
   "execution_count": 28,
   "metadata": {},
   "outputs": [
    {
     "name": "stdout",
     "output_type": "stream",
     "text": [
      "72/72 [==============================] - 7s 90ms/step\n"
     ]
    },
    {
     "data": {
      "text/plain": [
       "[0.6931471824645996, 0.3055555555555556]"
      ]
     },
     "execution_count": 28,
     "metadata": {},
     "output_type": "execute_result"
    }
   ],
   "source": [
    "classifier.evaluate(X_test, y_test)"
   ]
  },
  {
   "cell_type": "code",
   "execution_count": 29,
   "metadata": {},
   "outputs": [
    {
     "name": "stdout",
     "output_type": "stream",
     "text": [
      "WARNING:tensorflow:From D:\\Python\\lib\\site-packages\\keras\\backend\\tensorflow_backend.py:3445: calling dropout (from tensorflow.python.ops.nn_ops) with keep_prob is deprecated and will be removed in a future version.\n",
      "Instructions for updating:\n",
      "Please use `rate` instead of `keep_prob`. Rate should be set to `rate = 1 - keep_prob`.\n"
     ]
    }
   ],
   "source": [
    "model = Sequential()\n",
    "model.add(Conv2D(32, kernel_size = (3, 3), activation='relu', input_shape=(256,256,1)))\n",
    "model.add(MaxPooling2D(pool_size=(2,2)))\n",
    "model.add(BatchNormalization())\n",
    "model.add(Conv2D(64, kernel_size=(3,3), activation='relu'))\n",
    "model.add(MaxPooling2D(pool_size=(2,2)))\n",
    "model.add(BatchNormalization())\n",
    "model.add(Conv2D(96, kernel_size=(3,3), activation='relu'))\n",
    "model.add(MaxPooling2D(pool_size=(2,2)))\n",
    "model.add(BatchNormalization())\n",
    "model.add(Conv2D(96, kernel_size=(3,3), activation='relu'))\n",
    "model.add(MaxPooling2D(pool_size=(2,2)))\n",
    "model.add(BatchNormalization())\n",
    "model.add(Conv2D(96, kernel_size=(3,3), activation='relu'))\n",
    "model.add(MaxPooling2D(pool_size=(2,2)))\n",
    "model.add(BatchNormalization())\n",
    "model.add(Conv2D(64, kernel_size=(3,3), activation='relu'))\n",
    "model.add(MaxPooling2D(pool_size=(2,2)))\n",
    "model.add(BatchNormalization())\n",
    "model.add(Dropout(0.2))\n",
    "model.add(Flatten())\n",
    "model.add(Dense(256, activation='relu'))\n",
    "model.add(Dropout(0.2))\n",
    "model.add(Dense(128, activation='relu'))\n",
    "#model.add(Dense(128, activation='relu'))\n",
    "#model.add(Dropout(0.3))\n",
    "model.add(Dense(2, activation = 'sigmoid'))"
   ]
  },
  {
   "cell_type": "code",
   "execution_count": 33,
   "metadata": {},
   "outputs": [
    {
     "name": "stdout",
     "output_type": "stream",
     "text": [
      "_________________________________________________________________\n",
      "Layer (type)                 Output Shape              Param #   \n",
      "=================================================================\n",
      "conv2d_5 (Conv2D)            (None, 254, 254, 32)      320       \n",
      "_________________________________________________________________\n",
      "max_pooling2d_1 (MaxPooling2 (None, 127, 127, 32)      0         \n",
      "_________________________________________________________________\n",
      "batch_normalization_1 (Batch (None, 127, 127, 32)      128       \n",
      "_________________________________________________________________\n",
      "conv2d_6 (Conv2D)            (None, 125, 125, 64)      18496     \n",
      "_________________________________________________________________\n",
      "max_pooling2d_2 (MaxPooling2 (None, 62, 62, 64)        0         \n",
      "_________________________________________________________________\n",
      "batch_normalization_2 (Batch (None, 62, 62, 64)        256       \n",
      "_________________________________________________________________\n",
      "conv2d_7 (Conv2D)            (None, 60, 60, 96)        55392     \n",
      "_________________________________________________________________\n",
      "max_pooling2d_3 (MaxPooling2 (None, 30, 30, 96)        0         \n",
      "_________________________________________________________________\n",
      "batch_normalization_3 (Batch (None, 30, 30, 96)        384       \n",
      "_________________________________________________________________\n",
      "conv2d_8 (Conv2D)            (None, 28, 28, 96)        83040     \n",
      "_________________________________________________________________\n",
      "max_pooling2d_4 (MaxPooling2 (None, 14, 14, 96)        0         \n",
      "_________________________________________________________________\n",
      "batch_normalization_4 (Batch (None, 14, 14, 96)        384       \n",
      "_________________________________________________________________\n",
      "conv2d_9 (Conv2D)            (None, 12, 12, 96)        83040     \n",
      "_________________________________________________________________\n",
      "max_pooling2d_5 (MaxPooling2 (None, 6, 6, 96)          0         \n",
      "_________________________________________________________________\n",
      "batch_normalization_5 (Batch (None, 6, 6, 96)          384       \n",
      "_________________________________________________________________\n",
      "conv2d_10 (Conv2D)           (None, 4, 4, 64)          55360     \n",
      "_________________________________________________________________\n",
      "max_pooling2d_6 (MaxPooling2 (None, 2, 2, 64)          0         \n",
      "_________________________________________________________________\n",
      "batch_normalization_6 (Batch (None, 2, 2, 64)          256       \n",
      "_________________________________________________________________\n",
      "dropout_1 (Dropout)          (None, 2, 2, 64)          0         \n",
      "_________________________________________________________________\n",
      "flatten_3 (Flatten)          (None, 256)               0         \n",
      "_________________________________________________________________\n",
      "dense_3 (Dense)              (None, 256)               65792     \n",
      "_________________________________________________________________\n",
      "dropout_2 (Dropout)          (None, 256)               0         \n",
      "_________________________________________________________________\n",
      "dense_4 (Dense)              (None, 128)               32896     \n",
      "_________________________________________________________________\n",
      "dense_5 (Dense)              (None, 2)                 258       \n",
      "=================================================================\n",
      "Total params: 396,386\n",
      "Trainable params: 395,490\n",
      "Non-trainable params: 896\n",
      "_________________________________________________________________\n"
     ]
    }
   ],
   "source": [
    "model.summary()"
   ]
  },
  {
   "cell_type": "code",
   "execution_count": 34,
   "metadata": {},
   "outputs": [],
   "source": [
    "model.compile(loss='categorical_crossentropy', optimizer='adam', metrics = ['accuracy'])"
   ]
  },
  {
   "cell_type": "code",
   "execution_count": 35,
   "metadata": {},
   "outputs": [
    {
     "name": "stdout",
     "output_type": "stream",
     "text": [
      "Epoch 1/10\n",
      "286/286 [==============================] - 50s 176ms/step - loss: 0.0945 - acc: 0.9685\n",
      "Epoch 2/10\n",
      "286/286 [==============================] - 43s 152ms/step - loss: 0.1026 - acc: 0.9650\n",
      "Epoch 3/10\n",
      "286/286 [==============================] - 42s 147ms/step - loss: 0.1086 - acc: 0.9615\n",
      "Epoch 4/10\n",
      "286/286 [==============================] - 41s 142ms/step - loss: 0.1299 - acc: 0.9545\n",
      "Epoch 5/10\n",
      "286/286 [==============================] - 41s 143ms/step - loss: 0.1096 - acc: 0.9650\n",
      "Epoch 6/10\n",
      "286/286 [==============================] - 41s 142ms/step - loss: 0.0799 - acc: 0.9860\n",
      "Epoch 7/10\n",
      "286/286 [==============================] - 41s 143ms/step - loss: 0.0262 - acc: 0.9930\n",
      "Epoch 8/10\n",
      "286/286 [==============================] - 43s 151ms/step - loss: 0.0349 - acc: 0.9895\n",
      "Epoch 9/10\n",
      "286/286 [==============================] - 44s 152ms/step - loss: 0.0087 - acc: 1.0000\n",
      "Epoch 10/10\n",
      "286/286 [==============================] - 46s 161ms/step - loss: 0.0300 - acc: 0.9895\n"
     ]
    },
    {
     "data": {
      "text/plain": [
       "<keras.callbacks.History at 0x21429dbb1d0>"
      ]
     },
     "execution_count": 35,
     "metadata": {},
     "output_type": "execute_result"
    }
   ],
   "source": [
    "model.fit(X_train,y_train,epochs = 10, validation_steps=None,verbose = 1,batch_size=50)"
   ]
  },
  {
   "cell_type": "code",
   "execution_count": 36,
   "metadata": {},
   "outputs": [
    {
     "name": "stdout",
     "output_type": "stream",
     "text": [
      "72/72 [==============================] - 2s 30ms/step\n"
     ]
    },
    {
     "data": {
      "text/plain": [
       "[1.0643285711606343, 0.7222222222222222]"
      ]
     },
     "execution_count": 36,
     "metadata": {},
     "output_type": "execute_result"
    }
   ],
   "source": [
    "model.evaluate(X_test, y_test)"
   ]
  },
  {
   "cell_type": "code",
   "execution_count": 37,
   "metadata": {},
   "outputs": [
    {
     "name": "stdout",
     "output_type": "stream",
     "text": [
      "72.22222222222221\n"
     ]
    }
   ],
   "source": [
    "loss,acc = model.evaluate(X_test, y_test, verbose = 0)\n",
    "print(acc * 100)"
   ]
  },
  {
   "cell_type": "code",
   "execution_count": 39,
   "metadata": {},
   "outputs": [
    {
     "data": {
      "text/plain": [
       "array([[1.64508820e-05, 9.38421607e-01],\n",
       "       [3.14071774e-03, 4.70596850e-02],\n",
       "       [6.37763500e-01, 1.24543905e-04],\n",
       "       [2.87970364e-01, 1.63912773e-04],\n",
       "       [6.59001350e-01, 1.60634518e-04],\n",
       "       [3.48001719e-04, 3.95758152e-01],\n",
       "       [2.16012597e-02, 1.99959546e-01],\n",
       "       [2.57045031e-04, 6.19734347e-01],\n",
       "       [4.58657742e-05, 7.04783440e-01],\n",
       "       [2.68220901e-07, 9.70463455e-01],\n",
       "       [2.30112672e-03, 4.58062410e-01],\n",
       "       [1.98676288e-02, 4.15462554e-02],\n",
       "       [1.76241994e-03, 1.47605985e-01],\n",
       "       [1.06828660e-01, 1.51693821e-04],\n",
       "       [9.05409455e-03, 2.51138210e-02],\n",
       "       [1.22898817e-03, 1.74040258e-01],\n",
       "       [7.65944123e-02, 3.57246399e-03],\n",
       "       [1.58919245e-01, 1.07288361e-05],\n",
       "       [1.76185369e-03, 2.99904943e-01],\n",
       "       [1.07698143e-02, 5.65637648e-02],\n",
       "       [1.04010105e-05, 9.30260658e-01],\n",
       "       [4.83691692e-05, 7.85287499e-01],\n",
       "       [1.78763270e-03, 4.67881292e-01],\n",
       "       [5.45272231e-03, 5.35265088e-01],\n",
       "       [1.56199276e-01, 1.20601058e-03],\n",
       "       [7.81327486e-04, 3.29512000e-01],\n",
       "       [1.52413249e-02, 5.48331141e-02],\n",
       "       [4.30741906e-03, 2.29703605e-01],\n",
       "       [3.85683656e-01, 1.92543864e-03],\n",
       "       [3.23161483e-03, 1.47494376e-01],\n",
       "       [2.07281619e-01, 3.03420424e-03],\n",
       "       [2.71936268e-01, 6.92486763e-04],\n",
       "       [2.56285965e-02, 7.21475780e-02],\n",
       "       [8.98181558e-01, 3.57627869e-07],\n",
       "       [5.98246157e-02, 5.42032719e-03],\n",
       "       [2.38418579e-07, 7.22103715e-01],\n",
       "       [9.06634629e-02, 5.73208928e-03],\n",
       "       [8.28504562e-05, 7.62257338e-01],\n",
       "       [1.40866637e-03, 3.11331272e-01],\n",
       "       [3.25231403e-01, 2.18191743e-03],\n",
       "       [7.31069744e-02, 5.50940633e-03],\n",
       "       [2.58299708e-03, 3.49927247e-02],\n",
       "       [4.44382429e-04, 3.61539543e-01],\n",
       "       [4.02225852e-02, 3.31857800e-03],\n",
       "       [1.68189734e-01, 6.14240766e-03],\n",
       "       [1.69633776e-01, 4.18029726e-02],\n",
       "       [2.35658884e-03, 1.59633160e-03],\n",
       "       [5.99491000e-02, 9.80669260e-03],\n",
       "       [5.06019592e-03, 3.55627656e-01],\n",
       "       [9.05081630e-03, 5.57674468e-02],\n",
       "       [1.88175738e-02, 3.59539390e-02],\n",
       "       [1.46924257e-01, 1.09997690e-02],\n",
       "       [5.68181276e-04, 4.33501095e-01],\n",
       "       [4.30778563e-02, 2.21756399e-02],\n",
       "       [5.33765554e-03, 2.21817344e-01],\n",
       "       [1.23269886e-01, 2.10474730e-02],\n",
       "       [1.18032098e-03, 1.38871282e-01],\n",
       "       [7.91421533e-03, 1.87657982e-01],\n",
       "       [2.10669637e-03, 7.97085047e-01],\n",
       "       [8.68168473e-03, 2.91179955e-01],\n",
       "       [4.35601056e-01, 9.76324081e-04],\n",
       "       [2.41442621e-02, 1.42192751e-01],\n",
       "       [3.90741229e-03, 2.34807342e-01],\n",
       "       [1.01220608e-03, 5.20507455e-01],\n",
       "       [6.47834241e-02, 2.22894549e-02],\n",
       "       [3.49216104e-01, 3.09616327e-04],\n",
       "       [9.29743052e-04, 7.01418817e-01],\n",
       "       [2.29477882e-05, 8.49879384e-01],\n",
       "       [1.65849924e-04, 7.89646208e-01],\n",
       "       [9.28819180e-04, 1.97447240e-01],\n",
       "       [5.00674844e-02, 7.64843822e-02],\n",
       "       [5.98863959e-02, 1.13858074e-01]], dtype=float32)"
      ]
     },
     "execution_count": 39,
     "metadata": {},
     "output_type": "execute_result"
    }
   ],
   "source": [
    "predictions"
   ]
  },
  {
   "cell_type": "code",
   "execution_count": 38,
   "metadata": {},
   "outputs": [],
   "source": [
    "predictions=model.predict(X_test)"
   ]
  },
  {
   "cell_type": "code",
   "execution_count": 40,
   "metadata": {},
   "outputs": [],
   "source": [
    "Pred_Max_Positions=[]\n",
    "for i in range(72):\n",
    "    res=max(predictions[i])\n",
    "    #print(res)\n",
    "    for j in range(2):\n",
    "        if (res==predictions[i][j]):\n",
    "            result=j+1\n",
    "            Pred_Max_Positions.append(j)\n",
    "#Pred_Max_Positions"
   ]
  },
  {
   "cell_type": "code",
   "execution_count": 42,
   "metadata": {},
   "outputs": [],
   "source": [
    "Test_Max_Positions=[]\n",
    "for i in range(72):\n",
    "    res=max(y_test[i])\n",
    "    #print(res)\n",
    "    for j in range(2):\n",
    "        if (res==y_test[i][j]):\n",
    "            result=j\n",
    "            Test_Max_Positions.append(j)\n",
    "#Test_Max_Positions"
   ]
  },
  {
   "cell_type": "code",
   "execution_count": 43,
   "metadata": {},
   "outputs": [
    {
     "data": {
      "text/plain": [
       "array([[14,  8],\n",
       "       [12, 38]], dtype=int64)"
      ]
     },
     "execution_count": 43,
     "metadata": {},
     "output_type": "execute_result"
    }
   ],
   "source": [
    "from sklearn.metrics import confusion_matrix\n",
    "CM_CNN_1=confusion_matrix(Test_Max_Positions,Pred_Max_Positions)\n",
    "CM_CNN_1"
   ]
  },
  {
   "cell_type": "code",
   "execution_count": 44,
   "metadata": {},
   "outputs": [
    {
     "name": "stdout",
     "output_type": "stream",
     "text": [
      "              precision    recall  f1-score   support\n",
      "\n",
      "           0       0.54      0.64      0.58        22\n",
      "           1       0.83      0.76      0.79        50\n",
      "\n",
      "   micro avg       0.72      0.72      0.72        72\n",
      "   macro avg       0.68      0.70      0.69        72\n",
      "weighted avg       0.74      0.72      0.73        72\n",
      "\n"
     ]
    }
   ],
   "source": [
    "from sklearn.metrics import classification_report\n",
    "print(classification_report(Test_Max_Positions,Pred_Max_Positions))"
   ]
  },
  {
   "cell_type": "code",
   "execution_count": null,
   "metadata": {},
   "outputs": [],
   "source": []
  },
  {
   "cell_type": "code",
   "execution_count": null,
   "metadata": {},
   "outputs": [],
   "source": []
  },
  {
   "cell_type": "code",
   "execution_count": null,
   "metadata": {},
   "outputs": [],
   "source": []
  },
  {
   "cell_type": "code",
   "execution_count": null,
   "metadata": {},
   "outputs": [],
   "source": []
  },
  {
   "cell_type": "code",
   "execution_count": null,
   "metadata": {},
   "outputs": [],
   "source": []
  },
  {
   "cell_type": "code",
   "execution_count": null,
   "metadata": {},
   "outputs": [],
   "source": []
  },
  {
   "cell_type": "code",
   "execution_count": null,
   "metadata": {},
   "outputs": [],
   "source": [
    "#Class 2: Pizza"
   ]
  },
  {
   "cell_type": "code",
   "execution_count": 47,
   "metadata": {},
   "outputs": [
    {
     "name": "stdout",
     "output_type": "stream",
     "text": [
      "Average Height: 383.958217270195\n",
      "Max Height: 400\n",
      "Min Height: 150\n",
      "\n",
      "\n",
      "Average Width: 482.1309192200557\n",
      "Max Width: 600\n",
      "Min Width: 200\n"
     ]
    }
   ],
   "source": [
    "from PIL import Image\n",
    "import numpy as np\n",
    "import os\n",
    "from random import shuffle\n",
    "import matplotlib.pyplot as plt\n",
    "\n",
    "DIR = 'D:\\SEM II\\DSP\\Project\\Image Dataset\\Train'\n",
    "\n",
    "# Want to know how we should format the height x width image data dimensions\n",
    "# for inputting to a keras model\n",
    "def get_size_statistics():\n",
    "    heights = []\n",
    "    widths = []\n",
    "    img_count = 0\n",
    "    for img in os.listdir(DIR):\n",
    "        path = os.path.join(DIR, img)\n",
    "        if \"DS_Store\" not in path:\n",
    "            data = np.array(Image.open(path))\n",
    "            heights.append(data.shape[0])\n",
    "            widths.append(data.shape[1])\n",
    "            img_count += 1\n",
    "    avg_height = sum(heights) / len(heights)\n",
    "    avg_width = sum(widths) / len(widths)\n",
    "    print(\"Average Height: \" + str(avg_height))\n",
    "    print(\"Max Height: \" + str(max(heights)))\n",
    "    print(\"Min Height: \" + str(min(heights)))\n",
    "    print('\\n')\n",
    "    print(\"Average Width: \" + str(avg_width))\n",
    "    print(\"Max Width: \" + str(max(widths)))\n",
    "    print(\"Min Width: \" + str(min(widths)))\n",
    "get_size_statistics()"
   ]
  },
  {
   "cell_type": "code",
   "execution_count": 48,
   "metadata": {},
   "outputs": [],
   "source": [
    "def label_img(name):\n",
    "    word_label = name.split('(')[0]\n",
    "    #print(word_label)\n",
    "    if word_label == 'Burger ':  return 1\n",
    "    elif word_label == 'pizza ': return 0\n",
    "    elif word_label == 'Chicken ': return 1\n",
    "    elif word_label == 'Sweet ': return 1\n",
    "    elif word_label == 'Tacos ': return 1\n",
    "    elif word_label == 'Drink ': return 1"
   ]
  },
  {
   "cell_type": "code",
   "execution_count": 49,
   "metadata": {},
   "outputs": [],
   "source": [
    "IMG_SIZE = 256\n",
    "def load_training_data():\n",
    "    train_data = []\n",
    "    for img in os.listdir(DIR):\n",
    "        label = label_img(img)\n",
    "        path = os.path.join(DIR, img)\n",
    "        if \"DS_Store\" not in path:\n",
    "            img = Image.open(path)\n",
    "            img = img.convert('L')\n",
    "            img = img.resize((IMG_SIZE, IMG_SIZE), Image.ANTIALIAS)\n",
    "            train_data.append([np.array(img), label])\n",
    "            X_train=np.array(img)\n",
    "            Y_train=label\n",
    "    shuffle(train_data)\n",
    "    return train_data"
   ]
  },
  {
   "cell_type": "code",
   "execution_count": 50,
   "metadata": {},
   "outputs": [],
   "source": [
    "train_data = np.array(load_training_data())\n",
    "y=len(train_data)\n",
    "X=[]\n",
    "Y=[]"
   ]
  },
  {
   "cell_type": "code",
   "execution_count": 51,
   "metadata": {},
   "outputs": [],
   "source": [
    "for i in range(y-1):\n",
    "    img=np.array((train_data[i][0]).reshape(256,256))\n",
    "    X.append(img)\n",
    "    label=np.array(train_data[i][1])\n",
    "    Y.append(label)"
   ]
  },
  {
   "cell_type": "code",
   "execution_count": 52,
   "metadata": {},
   "outputs": [],
   "source": [
    "from sklearn.model_selection import train_test_split\n",
    "X_train, X_test, y_train, y_test = train_test_split(X, Y,\n",
    "                                                    random_state=42,\n",
    "                                                    test_size=0.20)"
   ]
  },
  {
   "cell_type": "code",
   "execution_count": 53,
   "metadata": {},
   "outputs": [],
   "source": [
    "X_train=np.array(X_train)\n",
    "y_train=np.array(y_train)\n",
    "X_test=np.array(X_test)\n",
    "y_test=np.array(y_test)"
   ]
  },
  {
   "cell_type": "code",
   "execution_count": 54,
   "metadata": {},
   "outputs": [
    {
     "name": "stderr",
     "output_type": "stream",
     "text": [
      "D:\\Python\\lib\\site-packages\\ipykernel_launcher.py:2: UserWarning: Update your `Conv2D` call to the Keras 2 API: `Conv2D(64, (3, 3), input_shape=(256, 256,..., activation=\"relu\")`\n",
      "  \n",
      "D:\\Python\\lib\\site-packages\\ipykernel_launcher.py:3: UserWarning: Update your `Conv2D` call to the Keras 2 API: `Conv2D(32, (3, 3), activation=\"relu\")`\n",
      "  This is separate from the ipykernel package so we can avoid doing imports until\n",
      "D:\\Python\\lib\\site-packages\\ipykernel_launcher.py:6: UserWarning: Update your `Dense` call to the Keras 2 API: `Dense(activation=\"sigmoid\", units=2)`\n",
      "  \n"
     ]
    }
   ],
   "source": [
    "classifier=Sequential()\n",
    "classifier.add(Conv2D(64,3,3,input_shape=(256,256,1),activation='relu'))\n",
    "classifier.add(Conv2D(32,3,3,activation='relu'))\n",
    "#classifier.add(MaxPooling2D(pool_size=(2,2)))\n",
    "classifier.add(Flatten())\n",
    "classifier.add(Dense(output_dim=2,activation='sigmoid'))\n",
    "classifier.compile(optimizer='adam',loss='categorical_crossentropy',metrics=['accuracy'])"
   ]
  },
  {
   "cell_type": "code",
   "execution_count": 55,
   "metadata": {},
   "outputs": [],
   "source": [
    "X_train = X_train.reshape(286,256,256,1)\n",
    "X_test = X_test.reshape(72,256,256,1)\n",
    "from keras.preprocessing.image import ImageDataGenerator\n",
    "from keras.utils import to_categorical\n",
    "y_train = to_categorical(y_train)\n",
    "y_test = to_categorical(y_test)"
   ]
  },
  {
   "cell_type": "code",
   "execution_count": 56,
   "metadata": {},
   "outputs": [
    {
     "name": "stdout",
     "output_type": "stream",
     "text": [
      "_________________________________________________________________\n",
      "Layer (type)                 Output Shape              Param #   \n",
      "=================================================================\n",
      "conv2d_11 (Conv2D)           (None, 254, 254, 64)      640       \n",
      "_________________________________________________________________\n",
      "conv2d_12 (Conv2D)           (None, 252, 252, 32)      18464     \n",
      "_________________________________________________________________\n",
      "flatten_4 (Flatten)          (None, 2032128)           0         \n",
      "_________________________________________________________________\n",
      "dense_6 (Dense)              (None, 2)                 4064258   \n",
      "=================================================================\n",
      "Total params: 4,083,362\n",
      "Trainable params: 4,083,362\n",
      "Non-trainable params: 0\n",
      "_________________________________________________________________\n"
     ]
    }
   ],
   "source": [
    "classifier.summary()"
   ]
  },
  {
   "cell_type": "code",
   "execution_count": 57,
   "metadata": {},
   "outputs": [
    {
     "name": "stdout",
     "output_type": "stream",
     "text": [
      "Train on 286 samples, validate on 72 samples\n",
      "Epoch 1/3\n",
      "286/286 [==============================] - 62s 216ms/step - loss: 10.7019 - acc: 0.3287 - val_loss: 11.4170 - val_acc: 0.2917\n",
      "Epoch 2/3\n",
      "286/286 [==============================] - 64s 224ms/step - loss: 11.7223 - acc: 0.2727 - val_loss: 11.4170 - val_acc: 0.2917\n",
      "Epoch 3/3\n",
      "286/286 [==============================] - 66s 229ms/step - loss: 11.7223 - acc: 0.2727 - val_loss: 11.4170 - val_acc: 0.2917\n"
     ]
    },
    {
     "data": {
      "text/plain": [
       "<keras.callbacks.History at 0x21430230e10>"
      ]
     },
     "execution_count": 57,
     "metadata": {},
     "output_type": "execute_result"
    }
   ],
   "source": [
    "classifier.fit(X_train, y_train, validation_data=(X_test, y_test), epochs=3)"
   ]
  },
  {
   "cell_type": "code",
   "execution_count": 58,
   "metadata": {},
   "outputs": [],
   "source": [
    "model = Sequential()\n",
    "model.add(Conv2D(32, kernel_size = (3, 3), activation='relu', input_shape=(256,256,1)))\n",
    "model.add(MaxPooling2D(pool_size=(2,2)))\n",
    "model.add(BatchNormalization())\n",
    "model.add(Conv2D(64, kernel_size=(3,3), activation='relu'))\n",
    "model.add(MaxPooling2D(pool_size=(2,2)))\n",
    "model.add(BatchNormalization())\n",
    "model.add(Conv2D(96, kernel_size=(3,3), activation='relu'))\n",
    "model.add(MaxPooling2D(pool_size=(2,2)))\n",
    "model.add(BatchNormalization())\n",
    "model.add(Conv2D(96, kernel_size=(3,3), activation='relu'))\n",
    "model.add(MaxPooling2D(pool_size=(2,2)))\n",
    "model.add(BatchNormalization())\n",
    "model.add(Conv2D(96, kernel_size=(3,3), activation='relu'))\n",
    "model.add(MaxPooling2D(pool_size=(2,2)))\n",
    "model.add(BatchNormalization())\n",
    "model.add(Conv2D(64, kernel_size=(3,3), activation='relu'))\n",
    "model.add(MaxPooling2D(pool_size=(2,2)))\n",
    "model.add(BatchNormalization())\n",
    "model.add(Dropout(0.2))\n",
    "model.add(Flatten())\n",
    "model.add(Dense(256, activation='relu'))\n",
    "model.add(Dropout(0.2))\n",
    "model.add(Dense(128, activation='relu'))\n",
    "#model.add(Dense(128, activation='relu'))\n",
    "#model.add(Dropout(0.3))\n",
    "model.add(Dense(2, activation = 'sigmoid'))"
   ]
  },
  {
   "cell_type": "code",
   "execution_count": 59,
   "metadata": {},
   "outputs": [
    {
     "name": "stdout",
     "output_type": "stream",
     "text": [
      "_________________________________________________________________\n",
      "Layer (type)                 Output Shape              Param #   \n",
      "=================================================================\n",
      "conv2d_13 (Conv2D)           (None, 254, 254, 32)      320       \n",
      "_________________________________________________________________\n",
      "max_pooling2d_7 (MaxPooling2 (None, 127, 127, 32)      0         \n",
      "_________________________________________________________________\n",
      "batch_normalization_7 (Batch (None, 127, 127, 32)      128       \n",
      "_________________________________________________________________\n",
      "conv2d_14 (Conv2D)           (None, 125, 125, 64)      18496     \n",
      "_________________________________________________________________\n",
      "max_pooling2d_8 (MaxPooling2 (None, 62, 62, 64)        0         \n",
      "_________________________________________________________________\n",
      "batch_normalization_8 (Batch (None, 62, 62, 64)        256       \n",
      "_________________________________________________________________\n",
      "conv2d_15 (Conv2D)           (None, 60, 60, 96)        55392     \n",
      "_________________________________________________________________\n",
      "max_pooling2d_9 (MaxPooling2 (None, 30, 30, 96)        0         \n",
      "_________________________________________________________________\n",
      "batch_normalization_9 (Batch (None, 30, 30, 96)        384       \n",
      "_________________________________________________________________\n",
      "conv2d_16 (Conv2D)           (None, 28, 28, 96)        83040     \n",
      "_________________________________________________________________\n",
      "max_pooling2d_10 (MaxPooling (None, 14, 14, 96)        0         \n",
      "_________________________________________________________________\n",
      "batch_normalization_10 (Batc (None, 14, 14, 96)        384       \n",
      "_________________________________________________________________\n",
      "conv2d_17 (Conv2D)           (None, 12, 12, 96)        83040     \n",
      "_________________________________________________________________\n",
      "max_pooling2d_11 (MaxPooling (None, 6, 6, 96)          0         \n",
      "_________________________________________________________________\n",
      "batch_normalization_11 (Batc (None, 6, 6, 96)          384       \n",
      "_________________________________________________________________\n",
      "conv2d_18 (Conv2D)           (None, 4, 4, 64)          55360     \n",
      "_________________________________________________________________\n",
      "max_pooling2d_12 (MaxPooling (None, 2, 2, 64)          0         \n",
      "_________________________________________________________________\n",
      "batch_normalization_12 (Batc (None, 2, 2, 64)          256       \n",
      "_________________________________________________________________\n",
      "dropout_3 (Dropout)          (None, 2, 2, 64)          0         \n",
      "_________________________________________________________________\n",
      "flatten_5 (Flatten)          (None, 256)               0         \n",
      "_________________________________________________________________\n",
      "dense_7 (Dense)              (None, 256)               65792     \n",
      "_________________________________________________________________\n",
      "dropout_4 (Dropout)          (None, 256)               0         \n",
      "_________________________________________________________________\n",
      "dense_8 (Dense)              (None, 128)               32896     \n",
      "_________________________________________________________________\n",
      "dense_9 (Dense)              (None, 2)                 258       \n",
      "=================================================================\n",
      "Total params: 396,386\n",
      "Trainable params: 395,490\n",
      "Non-trainable params: 896\n",
      "_________________________________________________________________\n"
     ]
    }
   ],
   "source": [
    "model.summary()"
   ]
  },
  {
   "cell_type": "code",
   "execution_count": 60,
   "metadata": {},
   "outputs": [],
   "source": [
    "model.compile(loss='categorical_crossentropy', optimizer='adam', metrics = ['accuracy'])"
   ]
  },
  {
   "cell_type": "code",
   "execution_count": 61,
   "metadata": {},
   "outputs": [
    {
     "name": "stdout",
     "output_type": "stream",
     "text": [
      "Epoch 1/10\n",
      "286/286 [==============================] - 41s 142ms/step - loss: 0.5180 - acc: 0.7343\n",
      "Epoch 2/10\n",
      "286/286 [==============================] - 42s 147ms/step - loss: 0.3364 - acc: 0.8706\n",
      "Epoch 3/10\n",
      "286/286 [==============================] - 46s 160ms/step - loss: 0.1960 - acc: 0.9266\n",
      "Epoch 4/10\n",
      "286/286 [==============================] - 46s 160ms/step - loss: 0.1388 - acc: 0.9615\n",
      "Epoch 5/10\n",
      "286/286 [==============================] - 45s 156ms/step - loss: 0.0745 - acc: 0.9825\n",
      "Epoch 6/10\n",
      "286/286 [==============================] - 43s 150ms/step - loss: 0.0328 - acc: 0.9930\n",
      "Epoch 7/10\n",
      "286/286 [==============================] - 42s 147ms/step - loss: 0.0182 - acc: 0.9965\n",
      "Epoch 8/10\n",
      "286/286 [==============================] - 41s 144ms/step - loss: 0.0143 - acc: 0.9965\n",
      "Epoch 9/10\n",
      "286/286 [==============================] - 44s 155ms/step - loss: 0.0064 - acc: 1.0000\n",
      "Epoch 10/10\n",
      "286/286 [==============================] - 48s 167ms/step - loss: 0.0179 - acc: 0.9930\n"
     ]
    },
    {
     "data": {
      "text/plain": [
       "<keras.callbacks.History at 0x214179352e8>"
      ]
     },
     "execution_count": 61,
     "metadata": {},
     "output_type": "execute_result"
    }
   ],
   "source": [
    "model.fit(X_train,y_train,epochs = 10, validation_steps=None,verbose = 1,batch_size=50)"
   ]
  },
  {
   "cell_type": "code",
   "execution_count": 43,
   "metadata": {
    "scrolled": true
   },
   "outputs": [
    {
     "name": "stdout",
     "output_type": "stream",
     "text": [
      "72/72 [==============================] - 3s 44ms/step\n"
     ]
    },
    {
     "data": {
      "text/plain": [
       "[0.38448719183603924, 0.9166666666666666]"
      ]
     },
     "execution_count": 43,
     "metadata": {},
     "output_type": "execute_result"
    }
   ],
   "source": [
    "model.evaluate(X_test, y_test)"
   ]
  },
  {
   "cell_type": "code",
   "execution_count": 44,
   "metadata": {
    "scrolled": true
   },
   "outputs": [
    {
     "name": "stdout",
     "output_type": "stream",
     "text": [
      "91.66666666666666\n"
     ]
    }
   ],
   "source": [
    "loss,acc = model.evaluate(X_test, y_test, verbose = 0)\n",
    "print(acc * 100)"
   ]
  },
  {
   "cell_type": "code",
   "execution_count": null,
   "metadata": {},
   "outputs": [],
   "source": []
  },
  {
   "cell_type": "code",
   "execution_count": 62,
   "metadata": {},
   "outputs": [
    {
     "name": "stdout",
     "output_type": "stream",
     "text": [
      "              precision    recall  f1-score   support\n",
      "\n",
      "           0       0.93      0.67      0.78        21\n",
      "           1       0.88      0.98      0.93        51\n",
      "\n",
      "   micro avg       0.89      0.89      0.89        72\n",
      "   macro avg       0.91      0.82      0.85        72\n",
      "weighted avg       0.89      0.89      0.88        72\n",
      "\n"
     ]
    },
    {
     "data": {
      "text/plain": [
       "array([[14,  7],\n",
       "       [ 1, 50]], dtype=int64)"
      ]
     },
     "execution_count": 62,
     "metadata": {},
     "output_type": "execute_result"
    }
   ],
   "source": [
    "predictions=model.predict(X_test)\n",
    "Pred_Max_Positions=[]\n",
    "for i in range(72):\n",
    "    res=max(predictions[i])\n",
    "    #print(res)\n",
    "    for j in range(2):\n",
    "        if (res==predictions[i][j]):\n",
    "            result=j\n",
    "            Pred_Max_Positions.append(j)\n",
    "#Pred_Max_Positions\n",
    "\n",
    "Test_Max_Positions=[]\n",
    "for i in range(72):\n",
    "    res=max(y_test[i])\n",
    "    #print(res)\n",
    "    for j in range(2):\n",
    "        if (res==y_test[i][j]):\n",
    "            result=j\n",
    "            Test_Max_Positions.append(j)\n",
    "#Test_Max_Positions\n",
    "\n",
    "from sklearn.metrics import classification_report\n",
    "print(classification_report(Test_Max_Positions,Pred_Max_Positions))\n",
    "\n",
    "from sklearn.metrics import confusion_matrix\n",
    "CM_CNN_2=confusion_matrix(Test_Max_Positions,Pred_Max_Positions)\n",
    "CM_CNN_2\n",
    "\n"
   ]
  },
  {
   "cell_type": "code",
   "execution_count": null,
   "metadata": {},
   "outputs": [],
   "source": []
  },
  {
   "cell_type": "code",
   "execution_count": null,
   "metadata": {},
   "outputs": [],
   "source": []
  },
  {
   "cell_type": "code",
   "execution_count": null,
   "metadata": {},
   "outputs": [],
   "source": []
  },
  {
   "cell_type": "code",
   "execution_count": null,
   "metadata": {},
   "outputs": [],
   "source": []
  },
  {
   "cell_type": "code",
   "execution_count": null,
   "metadata": {},
   "outputs": [],
   "source": []
  },
  {
   "cell_type": "code",
   "execution_count": null,
   "metadata": {},
   "outputs": [],
   "source": []
  },
  {
   "cell_type": "code",
   "execution_count": null,
   "metadata": {},
   "outputs": [],
   "source": []
  },
  {
   "cell_type": "code",
   "execution_count": null,
   "metadata": {},
   "outputs": [],
   "source": []
  },
  {
   "cell_type": "code",
   "execution_count": null,
   "metadata": {},
   "outputs": [],
   "source": []
  },
  {
   "cell_type": "code",
   "execution_count": null,
   "metadata": {},
   "outputs": [],
   "source": []
  },
  {
   "cell_type": "code",
   "execution_count": 63,
   "metadata": {},
   "outputs": [],
   "source": [
    "#Chicken"
   ]
  },
  {
   "cell_type": "code",
   "execution_count": 64,
   "metadata": {},
   "outputs": [],
   "source": [
    "def label_img(name):\n",
    "    word_label = name.split('(')[0]\n",
    "    #print(word_label)\n",
    "    if word_label == 'Burger ':  return 1\n",
    "    elif word_label == 'pizza ': return 1\n",
    "    elif word_label == 'Chicken ': return 0\n",
    "    elif word_label == 'Sweet ': return 1\n",
    "    elif word_label == 'Tacos ': return 1\n",
    "    elif word_label == 'Drink ': return 1"
   ]
  },
  {
   "cell_type": "code",
   "execution_count": 65,
   "metadata": {},
   "outputs": [],
   "source": [
    "IMG_SIZE = 256\n",
    "def load_training_data():\n",
    "    train_data = []\n",
    "    for img in os.listdir(DIR):\n",
    "        label = label_img(img)\n",
    "        path = os.path.join(DIR, img)\n",
    "        if \"DS_Store\" not in path:\n",
    "            img = Image.open(path)\n",
    "            img = img.convert('L')\n",
    "            img = img.resize((IMG_SIZE, IMG_SIZE), Image.ANTIALIAS)\n",
    "            train_data.append([np.array(img), label])\n",
    "            X_train=np.array(img)\n",
    "            Y_train=label\n",
    "    shuffle(train_data)\n",
    "    return train_data"
   ]
  },
  {
   "cell_type": "code",
   "execution_count": 66,
   "metadata": {},
   "outputs": [],
   "source": [
    "train_data = np.array(load_training_data())\n",
    "y=len(train_data)\n",
    "X=[]\n",
    "Y=[]"
   ]
  },
  {
   "cell_type": "code",
   "execution_count": 67,
   "metadata": {},
   "outputs": [],
   "source": [
    "for i in range(y-1):\n",
    "    img=np.array((train_data[i][0]).reshape(256,256))\n",
    "    X.append(img)\n",
    "    label=np.array(train_data[i][1])\n",
    "    Y.append(label)"
   ]
  },
  {
   "cell_type": "code",
   "execution_count": 68,
   "metadata": {},
   "outputs": [],
   "source": [
    "from sklearn.model_selection import train_test_split\n",
    "X_train, X_test, y_train, y_test = train_test_split(X, Y,\n",
    "                                                    random_state=42,\n",
    "                                                    test_size=0.20)"
   ]
  },
  {
   "cell_type": "code",
   "execution_count": 69,
   "metadata": {},
   "outputs": [],
   "source": [
    "X_train=np.array(X_train)\n",
    "y_train=np.array(y_train)\n",
    "X_test=np.array(X_test)\n",
    "y_test=np.array(y_test)"
   ]
  },
  {
   "cell_type": "code",
   "execution_count": 70,
   "metadata": {},
   "outputs": [
    {
     "name": "stderr",
     "output_type": "stream",
     "text": [
      "D:\\Python\\lib\\site-packages\\ipykernel_launcher.py:2: UserWarning: Update your `Conv2D` call to the Keras 2 API: `Conv2D(64, (3, 3), input_shape=(256, 256,..., activation=\"relu\")`\n",
      "  \n",
      "D:\\Python\\lib\\site-packages\\ipykernel_launcher.py:3: UserWarning: Update your `Conv2D` call to the Keras 2 API: `Conv2D(32, (3, 3), activation=\"relu\")`\n",
      "  This is separate from the ipykernel package so we can avoid doing imports until\n",
      "D:\\Python\\lib\\site-packages\\ipykernel_launcher.py:6: UserWarning: Update your `Dense` call to the Keras 2 API: `Dense(activation=\"sigmoid\", units=2)`\n",
      "  \n"
     ]
    }
   ],
   "source": [
    "classifier=Sequential()\n",
    "classifier.add(Conv2D(64,3,3,input_shape=(256,256,1),activation='relu'))\n",
    "classifier.add(Conv2D(32,3,3,activation='relu'))\n",
    "#classifier.add(MaxPooling2D(pool_size=(2,2)))\n",
    "classifier.add(Flatten())\n",
    "classifier.add(Dense(output_dim=2,activation='sigmoid'))\n",
    "classifier.compile(optimizer='adam',loss='categorical_crossentropy',metrics=['accuracy'])"
   ]
  },
  {
   "cell_type": "code",
   "execution_count": 71,
   "metadata": {},
   "outputs": [],
   "source": [
    "X_train = X_train.reshape(286,256,256,1)\n",
    "X_test = X_test.reshape(72,256,256,1)\n",
    "from keras.preprocessing.image import ImageDataGenerator\n",
    "from keras.utils import to_categorical\n",
    "y_train = to_categorical(y_train)\n",
    "y_test = to_categorical(y_test)"
   ]
  },
  {
   "cell_type": "code",
   "execution_count": 72,
   "metadata": {},
   "outputs": [
    {
     "name": "stdout",
     "output_type": "stream",
     "text": [
      "Train on 286 samples, validate on 72 samples\n",
      "Epoch 1/3\n",
      "286/286 [==============================] - 60s 211ms/step - loss: 1.1929 - acc: 0.8706 - val_loss: 0.6716 - val_acc: 0.9583\n",
      "Epoch 2/3\n",
      "286/286 [==============================] - 60s 209ms/step - loss: 0.3945 - acc: 0.9755 - val_loss: 0.6716 - val_acc: 0.9583\n",
      "Epoch 3/3\n",
      "286/286 [==============================] - 68s 237ms/step - loss: 0.3945 - acc: 0.9755 - val_loss: 0.6716 - val_acc: 0.9583\n"
     ]
    },
    {
     "data": {
      "text/plain": [
       "<keras.callbacks.History at 0x2142f44dda0>"
      ]
     },
     "execution_count": 72,
     "metadata": {},
     "output_type": "execute_result"
    }
   ],
   "source": [
    "classifier.fit(X_train, y_train, validation_data=(X_test, y_test), epochs=3)"
   ]
  },
  {
   "cell_type": "code",
   "execution_count": 73,
   "metadata": {},
   "outputs": [],
   "source": [
    "model = Sequential()\n",
    "model.add(Conv2D(32, kernel_size = (3, 3), activation='relu', input_shape=(256,256,1)))\n",
    "model.add(MaxPooling2D(pool_size=(2,2)))\n",
    "model.add(BatchNormalization())\n",
    "model.add(Conv2D(64, kernel_size=(3,3), activation='relu'))\n",
    "model.add(MaxPooling2D(pool_size=(2,2)))\n",
    "model.add(BatchNormalization())\n",
    "model.add(Conv2D(96, kernel_size=(3,3), activation='relu'))\n",
    "model.add(MaxPooling2D(pool_size=(2,2)))\n",
    "model.add(BatchNormalization())\n",
    "model.add(Conv2D(96, kernel_size=(3,3), activation='relu'))\n",
    "model.add(MaxPooling2D(pool_size=(2,2)))\n",
    "model.add(BatchNormalization())\n",
    "model.add(Conv2D(96, kernel_size=(3,3), activation='relu'))\n",
    "model.add(MaxPooling2D(pool_size=(2,2)))\n",
    "model.add(BatchNormalization())\n",
    "model.add(Conv2D(64, kernel_size=(3,3), activation='relu'))\n",
    "model.add(MaxPooling2D(pool_size=(2,2)))\n",
    "model.add(BatchNormalization())\n",
    "model.add(Dropout(0.2))\n",
    "model.add(Flatten())\n",
    "model.add(Dense(256, activation='relu'))\n",
    "model.add(Dropout(0.2))\n",
    "model.add(Dense(128, activation='relu'))\n",
    "#model.add(Dense(128, activation='relu'))\n",
    "#model.add(Dropout(0.3))\n",
    "model.add(Dense(2, activation = 'sigmoid'))"
   ]
  },
  {
   "cell_type": "code",
   "execution_count": 74,
   "metadata": {},
   "outputs": [],
   "source": [
    "model.compile(loss='categorical_crossentropy', optimizer='adam', metrics = ['accuracy'])"
   ]
  },
  {
   "cell_type": "code",
   "execution_count": 75,
   "metadata": {},
   "outputs": [
    {
     "name": "stdout",
     "output_type": "stream",
     "text": [
      "Epoch 1/10\n",
      "286/286 [==============================] - 44s 153ms/step - loss: 0.3041 - acc: 0.8741\n",
      "Epoch 2/10\n",
      "286/286 [==============================] - 45s 157ms/step - loss: 0.1176 - acc: 0.9755\n",
      "Epoch 3/10\n",
      "286/286 [==============================] - 42s 149ms/step - loss: 0.0840 - acc: 0.9755\n",
      "Epoch 4/10\n",
      "286/286 [==============================] - 42s 146ms/step - loss: 0.0600 - acc: 0.9755\n",
      "Epoch 5/10\n",
      "286/286 [==============================] - 43s 152ms/step - loss: 0.0404 - acc: 0.9755\n",
      "Epoch 6/10\n",
      "286/286 [==============================] - 42s 147ms/step - loss: 0.0328 - acc: 0.9825\n",
      "Epoch 7/10\n",
      "286/286 [==============================] - 43s 152ms/step - loss: 0.0222 - acc: 0.9895\n",
      "Epoch 8/10\n",
      "286/286 [==============================] - 47s 163ms/step - loss: 0.0166 - acc: 0.9895\n",
      "Epoch 9/10\n",
      "286/286 [==============================] - 44s 153ms/step - loss: 0.0125 - acc: 0.9965\n",
      "Epoch 10/10\n",
      "286/286 [==============================] - 45s 159ms/step - loss: 0.0063 - acc: 1.0000\n"
     ]
    },
    {
     "data": {
      "text/plain": [
       "<keras.callbacks.History at 0x2142fa65940>"
      ]
     },
     "execution_count": 75,
     "metadata": {},
     "output_type": "execute_result"
    }
   ],
   "source": [
    "model.fit(X_train,y_train,epochs = 10, validation_steps=None,verbose = 1,batch_size=50)"
   ]
  },
  {
   "cell_type": "code",
   "execution_count": 76,
   "metadata": {},
   "outputs": [
    {
     "name": "stdout",
     "output_type": "stream",
     "text": [
      "72/72 [==============================] - 2s 33ms/step\n"
     ]
    },
    {
     "data": {
      "text/plain": [
       "[0.2533058675989095, 0.9583333333333334]"
      ]
     },
     "execution_count": 76,
     "metadata": {},
     "output_type": "execute_result"
    }
   ],
   "source": [
    "model.evaluate(X_test, y_test)"
   ]
  },
  {
   "cell_type": "code",
   "execution_count": 77,
   "metadata": {},
   "outputs": [
    {
     "name": "stdout",
     "output_type": "stream",
     "text": [
      "95.83333333333334\n"
     ]
    }
   ],
   "source": [
    "loss,acc = model.evaluate(X_test, y_test, verbose = 0)\n",
    "print(acc * 100)"
   ]
  },
  {
   "cell_type": "code",
   "execution_count": 78,
   "metadata": {},
   "outputs": [
    {
     "name": "stdout",
     "output_type": "stream",
     "text": [
      "              precision    recall  f1-score   support\n",
      "\n",
      "           0       0.00      0.00      0.00         3\n",
      "           1       0.96      1.00      0.98        69\n",
      "\n",
      "   micro avg       0.96      0.96      0.96        72\n",
      "   macro avg       0.48      0.50      0.49        72\n",
      "weighted avg       0.92      0.96      0.94        72\n",
      "\n"
     ]
    },
    {
     "name": "stderr",
     "output_type": "stream",
     "text": [
      "D:\\Python\\lib\\site-packages\\sklearn\\metrics\\classification.py:1143: UndefinedMetricWarning: Precision and F-score are ill-defined and being set to 0.0 in labels with no predicted samples.\n",
      "  'precision', 'predicted', average, warn_for)\n"
     ]
    },
    {
     "data": {
      "text/plain": [
       "array([[ 0,  3],\n",
       "       [ 0, 69]], dtype=int64)"
      ]
     },
     "execution_count": 78,
     "metadata": {},
     "output_type": "execute_result"
    }
   ],
   "source": [
    "predictions=model.predict(X_test)\n",
    "Pred_Max_Positions=[]\n",
    "for i in range(72):\n",
    "    res=max(predictions[i])\n",
    "    #print(res)\n",
    "    for j in range(2):\n",
    "        if (res==predictions[i][j]):\n",
    "            result=j+1\n",
    "            Pred_Max_Positions.append(j)\n",
    "#Pred_Max_Positions\n",
    "\n",
    "Test_Max_Positions=[]\n",
    "for i in range(72):\n",
    "    res=max(y_test[i])\n",
    "    #print(res)\n",
    "    for j in range(2):\n",
    "        if (res==y_test[i][j]):\n",
    "            result=j\n",
    "            Test_Max_Positions.append(j)\n",
    "#Test_Max_Positions\n",
    "\n",
    "from sklearn.metrics import classification_report\n",
    "print(classification_report(Test_Max_Positions,Pred_Max_Positions))\n",
    "\n",
    "from sklearn.metrics import confusion_matrix\n",
    "CM_CNN_3=confusion_matrix(Test_Max_Positions,Pred_Max_Positions)\n",
    "CM_CNN_3\n",
    "\n"
   ]
  },
  {
   "cell_type": "code",
   "execution_count": null,
   "metadata": {},
   "outputs": [],
   "source": []
  },
  {
   "cell_type": "code",
   "execution_count": null,
   "metadata": {},
   "outputs": [],
   "source": []
  },
  {
   "cell_type": "code",
   "execution_count": null,
   "metadata": {},
   "outputs": [],
   "source": []
  },
  {
   "cell_type": "code",
   "execution_count": null,
   "metadata": {},
   "outputs": [],
   "source": []
  },
  {
   "cell_type": "code",
   "execution_count": null,
   "metadata": {},
   "outputs": [],
   "source": []
  },
  {
   "cell_type": "code",
   "execution_count": null,
   "metadata": {},
   "outputs": [],
   "source": []
  },
  {
   "cell_type": "code",
   "execution_count": null,
   "metadata": {},
   "outputs": [],
   "source": []
  },
  {
   "cell_type": "code",
   "execution_count": null,
   "metadata": {},
   "outputs": [],
   "source": []
  },
  {
   "cell_type": "code",
   "execution_count": null,
   "metadata": {},
   "outputs": [],
   "source": []
  },
  {
   "cell_type": "code",
   "execution_count": null,
   "metadata": {},
   "outputs": [],
   "source": []
  },
  {
   "cell_type": "code",
   "execution_count": null,
   "metadata": {},
   "outputs": [],
   "source": []
  },
  {
   "cell_type": "code",
   "execution_count": null,
   "metadata": {},
   "outputs": [],
   "source": [
    "#Sweet"
   ]
  },
  {
   "cell_type": "code",
   "execution_count": 79,
   "metadata": {},
   "outputs": [],
   "source": [
    "def label_img(name):\n",
    "    word_label = name.split('(')[0]\n",
    "    #print(word_label)\n",
    "    if word_label == 'Burger ':  return 1\n",
    "    elif word_label == 'pizza ': return 1\n",
    "    elif word_label == 'Chicken ': return 1\n",
    "    elif word_label == 'Sweet ': return 0\n",
    "    elif word_label == 'Tacos ': return 1\n",
    "    elif word_label == 'Drink ': return 1"
   ]
  },
  {
   "cell_type": "code",
   "execution_count": 80,
   "metadata": {},
   "outputs": [],
   "source": [
    "IMG_SIZE = 256\n",
    "def load_training_data():\n",
    "    train_data = []\n",
    "    for img in os.listdir(DIR):\n",
    "        label = label_img(img)\n",
    "        path = os.path.join(DIR, img)\n",
    "        if \"DS_Store\" not in path:\n",
    "            img = Image.open(path)\n",
    "            img = img.convert('L')\n",
    "            img = img.resize((IMG_SIZE, IMG_SIZE), Image.ANTIALIAS)\n",
    "            train_data.append([np.array(img), label])\n",
    "            X_train=np.array(img)\n",
    "            Y_train=label\n",
    "    shuffle(train_data)\n",
    "    return train_data"
   ]
  },
  {
   "cell_type": "code",
   "execution_count": 81,
   "metadata": {},
   "outputs": [],
   "source": [
    "train_data = np.array(load_training_data())\n",
    "y=len(train_data)\n",
    "X=[]\n",
    "Y=[]"
   ]
  },
  {
   "cell_type": "code",
   "execution_count": 82,
   "metadata": {},
   "outputs": [],
   "source": [
    "for i in range(y-1):\n",
    "    img=np.array((train_data[i][0]).reshape(256,256))\n",
    "    X.append(img)\n",
    "    label=np.array(train_data[i][1])\n",
    "    Y.append(label)"
   ]
  },
  {
   "cell_type": "code",
   "execution_count": 83,
   "metadata": {},
   "outputs": [],
   "source": [
    "from sklearn.model_selection import train_test_split\n",
    "X_train, X_test, y_train, y_test = train_test_split(X, Y,\n",
    "                                                    random_state=42,\n",
    "                                                    test_size=0.20)"
   ]
  },
  {
   "cell_type": "code",
   "execution_count": 84,
   "metadata": {},
   "outputs": [],
   "source": [
    "X_train=np.array(X_train)\n",
    "y_train=np.array(y_train)\n",
    "X_test=np.array(X_test)\n",
    "y_test=np.array(y_test)"
   ]
  },
  {
   "cell_type": "code",
   "execution_count": 85,
   "metadata": {
    "scrolled": true
   },
   "outputs": [
    {
     "name": "stderr",
     "output_type": "stream",
     "text": [
      "D:\\Python\\lib\\site-packages\\ipykernel_launcher.py:2: UserWarning: Update your `Conv2D` call to the Keras 2 API: `Conv2D(64, (3, 3), input_shape=(256, 256,..., activation=\"relu\")`\n",
      "  \n",
      "D:\\Python\\lib\\site-packages\\ipykernel_launcher.py:3: UserWarning: Update your `Conv2D` call to the Keras 2 API: `Conv2D(32, (3, 3), activation=\"relu\")`\n",
      "  This is separate from the ipykernel package so we can avoid doing imports until\n",
      "D:\\Python\\lib\\site-packages\\ipykernel_launcher.py:6: UserWarning: Update your `Dense` call to the Keras 2 API: `Dense(activation=\"sigmoid\", units=2)`\n",
      "  \n"
     ]
    }
   ],
   "source": [
    "classifier=Sequential()\n",
    "classifier.add(Conv2D(64,3,3,input_shape=(256,256,1),activation='relu'))\n",
    "classifier.add(Conv2D(32,3,3,activation='relu'))\n",
    "#classifier.add(MaxPooling2D(pool_size=(2,2)))\n",
    "classifier.add(Flatten())\n",
    "classifier.add(Dense(output_dim=2,activation='sigmoid'))\n",
    "classifier.compile(optimizer='adam',loss='categorical_crossentropy',metrics=['accuracy'])"
   ]
  },
  {
   "cell_type": "code",
   "execution_count": 86,
   "metadata": {},
   "outputs": [],
   "source": [
    "X_train = X_train.reshape(286,256,256,1)\n",
    "X_test = X_test.reshape(72,256,256,1)\n",
    "from keras.preprocessing.image import ImageDataGenerator\n",
    "from keras.utils import to_categorical\n",
    "y_train = to_categorical(y_train)\n",
    "y_test = to_categorical(y_test)"
   ]
  },
  {
   "cell_type": "code",
   "execution_count": 87,
   "metadata": {
    "scrolled": true
   },
   "outputs": [
    {
     "name": "stdout",
     "output_type": "stream",
     "text": [
      "Train on 286 samples, validate on 72 samples\n",
      "Epoch 1/3\n",
      "286/286 [==============================] - 83s 290ms/step - loss: nan - acc: 0.1154 - val_loss: nan - val_acc: 0.0972\n",
      "Epoch 2/3\n",
      "286/286 [==============================] - 75s 264ms/step - loss: nan - acc: 0.1119 - val_loss: nan - val_acc: 0.0972\n",
      "Epoch 3/3\n",
      "286/286 [==============================] - 71s 250ms/step - loss: nan - acc: 0.1119 - val_loss: nan - val_acc: 0.0972\n"
     ]
    },
    {
     "data": {
      "text/plain": [
       "<keras.callbacks.History at 0x21441015d68>"
      ]
     },
     "execution_count": 87,
     "metadata": {},
     "output_type": "execute_result"
    }
   ],
   "source": [
    "classifier.fit(X_train, y_train, validation_data=(X_test, y_test), epochs=3)"
   ]
  },
  {
   "cell_type": "code",
   "execution_count": 88,
   "metadata": {},
   "outputs": [],
   "source": [
    "model = Sequential()\n",
    "model.add(Conv2D(32, kernel_size = (3, 3), activation='relu', input_shape=(256,256,1)))\n",
    "model.add(MaxPooling2D(pool_size=(2,2)))\n",
    "model.add(BatchNormalization())\n",
    "model.add(Conv2D(64, kernel_size=(3,3), activation='relu'))\n",
    "model.add(MaxPooling2D(pool_size=(2,2)))\n",
    "model.add(BatchNormalization())\n",
    "model.add(Conv2D(96, kernel_size=(3,3), activation='relu'))\n",
    "model.add(MaxPooling2D(pool_size=(2,2)))\n",
    "model.add(BatchNormalization())\n",
    "model.add(Conv2D(96, kernel_size=(3,3), activation='relu'))\n",
    "model.add(MaxPooling2D(pool_size=(2,2)))\n",
    "model.add(BatchNormalization())\n",
    "model.add(Conv2D(96, kernel_size=(3,3), activation='relu'))\n",
    "model.add(MaxPooling2D(pool_size=(2,2)))\n",
    "model.add(BatchNormalization())\n",
    "model.add(Conv2D(64, kernel_size=(3,3), activation='relu'))\n",
    "model.add(MaxPooling2D(pool_size=(2,2)))\n",
    "model.add(BatchNormalization())\n",
    "model.add(Dropout(0.2))\n",
    "model.add(Flatten())\n",
    "model.add(Dense(256, activation='relu'))\n",
    "model.add(Dropout(0.2))\n",
    "model.add(Dense(128, activation='relu'))\n",
    "#model.add(Dense(128, activation='relu'))\n",
    "#model.add(Dropout(0.3))\n",
    "model.add(Dense(2, activation = 'sigmoid'))"
   ]
  },
  {
   "cell_type": "code",
   "execution_count": 89,
   "metadata": {},
   "outputs": [],
   "source": [
    "model.compile(loss='categorical_crossentropy', optimizer='adam', metrics = ['accuracy'])"
   ]
  },
  {
   "cell_type": "code",
   "execution_count": 90,
   "metadata": {},
   "outputs": [
    {
     "name": "stdout",
     "output_type": "stream",
     "text": [
      "Epoch 1/10\n",
      "286/286 [==============================] - 57s 199ms/step - loss: 0.4364 - acc: 0.8671\n",
      "Epoch 2/10\n",
      "286/286 [==============================] - 54s 189ms/step - loss: 0.3113 - acc: 0.8881\n",
      "Epoch 3/10\n",
      "286/286 [==============================] - 53s 185ms/step - loss: 0.2422 - acc: 0.8881\n",
      "Epoch 4/10\n",
      "286/286 [==============================] - 53s 187ms/step - loss: 0.1893 - acc: 0.8916\n",
      "Epoch 5/10\n",
      "286/286 [==============================] - 52s 182ms/step - loss: 0.1497 - acc: 0.8951\n",
      "Epoch 6/10\n",
      "286/286 [==============================] - 53s 187ms/step - loss: 0.1183 - acc: 0.9231\n",
      "Epoch 7/10\n",
      "286/286 [==============================] - 54s 187ms/step - loss: 0.1100 - acc: 0.9301\n",
      "Epoch 8/10\n",
      "286/286 [==============================] - 53s 186ms/step - loss: 0.0903 - acc: 0.9825\n",
      "Epoch 9/10\n",
      "286/286 [==============================] - 52s 184ms/step - loss: 0.0717 - acc: 0.9755\n",
      "Epoch 10/10\n",
      "286/286 [==============================] - 52s 183ms/step - loss: 0.0359 - acc: 0.9895\n"
     ]
    },
    {
     "data": {
      "text/plain": [
       "<keras.callbacks.History at 0x214447041d0>"
      ]
     },
     "execution_count": 90,
     "metadata": {},
     "output_type": "execute_result"
    }
   ],
   "source": [
    "model.fit(X_train,y_train,epochs = 10, validation_steps=None,verbose = 1,batch_size=50)"
   ]
  },
  {
   "cell_type": "code",
   "execution_count": 92,
   "metadata": {
    "scrolled": true
   },
   "outputs": [
    {
     "name": "stdout",
     "output_type": "stream",
     "text": [
      "72/72 [==============================] - 4s 54ms/step\n"
     ]
    },
    {
     "data": {
      "text/plain": [
       "[0.5978704214923911, 0.875]"
      ]
     },
     "execution_count": 92,
     "metadata": {},
     "output_type": "execute_result"
    }
   ],
   "source": [
    "model.evaluate(X_test, y_test)"
   ]
  },
  {
   "cell_type": "code",
   "execution_count": 93,
   "metadata": {
    "scrolled": true
   },
   "outputs": [
    {
     "name": "stdout",
     "output_type": "stream",
     "text": [
      "87.5\n"
     ]
    }
   ],
   "source": [
    "loss,acc = model.evaluate(X_test, y_test, verbose = 0)\n",
    "print(acc * 100)"
   ]
  },
  {
   "cell_type": "code",
   "execution_count": 94,
   "metadata": {},
   "outputs": [
    {
     "name": "stdout",
     "output_type": "stream",
     "text": [
      "              precision    recall  f1-score   support\n",
      "\n",
      "           0       0.00      0.00      0.00         7\n",
      "           1       0.90      0.97      0.93        65\n",
      "\n",
      "   micro avg       0.88      0.88      0.88        72\n",
      "   macro avg       0.45      0.48      0.47        72\n",
      "weighted avg       0.81      0.88      0.84        72\n",
      "\n"
     ]
    },
    {
     "data": {
      "text/plain": [
       "array([[ 0,  7],\n",
       "       [ 2, 63]], dtype=int64)"
      ]
     },
     "execution_count": 94,
     "metadata": {},
     "output_type": "execute_result"
    }
   ],
   "source": [
    "predictions=model.predict(X_test)\n",
    "Pred_Max_Positions=[]\n",
    "for i in range(72):\n",
    "    res=max(predictions[i])\n",
    "    #print(res)\n",
    "    for j in range(2):\n",
    "        if (res==predictions[i][j]):\n",
    "            result=j+1\n",
    "            Pred_Max_Positions.append(j)\n",
    "#Pred_Max_Positions\n",
    "\n",
    "Test_Max_Positions=[]\n",
    "for i in range(72):\n",
    "    res=max(y_test[i])\n",
    "    #print(res)\n",
    "    for j in range(2):\n",
    "        if (res==y_test[i][j]):\n",
    "            result=j\n",
    "            Test_Max_Positions.append(j)\n",
    "#Test_Max_Positions\n",
    "\n",
    "from sklearn.metrics import classification_report\n",
    "print(classification_report(Test_Max_Positions,Pred_Max_Positions))\n",
    "\n",
    "from sklearn.metrics import confusion_matrix\n",
    "CM_CNN_3=confusion_matrix(Test_Max_Positions,Pred_Max_Positions)\n",
    "CM_CNN_3\n",
    "\n"
   ]
  },
  {
   "cell_type": "code",
   "execution_count": null,
   "metadata": {},
   "outputs": [],
   "source": []
  },
  {
   "cell_type": "code",
   "execution_count": null,
   "metadata": {},
   "outputs": [],
   "source": []
  },
  {
   "cell_type": "code",
   "execution_count": null,
   "metadata": {},
   "outputs": [],
   "source": []
  },
  {
   "cell_type": "code",
   "execution_count": null,
   "metadata": {},
   "outputs": [],
   "source": []
  },
  {
   "cell_type": "code",
   "execution_count": null,
   "metadata": {},
   "outputs": [],
   "source": []
  },
  {
   "cell_type": "code",
   "execution_count": null,
   "metadata": {},
   "outputs": [],
   "source": [
    "#Tacos"
   ]
  },
  {
   "cell_type": "code",
   "execution_count": 95,
   "metadata": {},
   "outputs": [],
   "source": [
    "def label_img(name):\n",
    "    word_label = name.split('(')[0]\n",
    "    #print(word_label)\n",
    "    if word_label == 'Burger ':  return 1\n",
    "    elif word_label == 'pizza ': return 1\n",
    "    elif word_label == 'Chicken ': return 1\n",
    "    elif word_label == 'Sweet ': return 1\n",
    "    elif word_label == 'Tacos ': return 0\n",
    "    elif word_label == 'Drink ': return 1"
   ]
  },
  {
   "cell_type": "code",
   "execution_count": 96,
   "metadata": {},
   "outputs": [],
   "source": [
    "IMG_SIZE = 256\n",
    "def load_training_data():\n",
    "    train_data = []\n",
    "    for img in os.listdir(DIR):\n",
    "        label = label_img(img)\n",
    "        path = os.path.join(DIR, img)\n",
    "        if \"DS_Store\" not in path:\n",
    "            img = Image.open(path)\n",
    "            img = img.convert('L')\n",
    "            img = img.resize((IMG_SIZE, IMG_SIZE), Image.ANTIALIAS)\n",
    "            train_data.append([np.array(img), label])\n",
    "            X_train=np.array(img)\n",
    "            Y_train=label\n",
    "    shuffle(train_data)\n",
    "    return train_data"
   ]
  },
  {
   "cell_type": "code",
   "execution_count": 97,
   "metadata": {},
   "outputs": [],
   "source": [
    "train_data = np.array(load_training_data())\n",
    "y=len(train_data)\n",
    "X=[]\n",
    "Y=[]"
   ]
  },
  {
   "cell_type": "code",
   "execution_count": 98,
   "metadata": {},
   "outputs": [],
   "source": [
    "for i in range(y-1):\n",
    "    img=np.array((train_data[i][0]).reshape(256,256))\n",
    "    X.append(img)\n",
    "    label=np.array(train_data[i][1])\n",
    "    Y.append(label)"
   ]
  },
  {
   "cell_type": "code",
   "execution_count": 99,
   "metadata": {},
   "outputs": [],
   "source": [
    "from sklearn.model_selection import train_test_split\n",
    "X_train, X_test, y_train, y_test = train_test_split(X, Y,\n",
    "                                                    random_state=42,\n",
    "                                                    test_size=0.20)"
   ]
  },
  {
   "cell_type": "code",
   "execution_count": 100,
   "metadata": {},
   "outputs": [],
   "source": [
    "X_train=np.array(X_train)\n",
    "y_train=np.array(y_train)\n",
    "X_test=np.array(X_test)\n",
    "y_test=np.array(y_test)"
   ]
  },
  {
   "cell_type": "code",
   "execution_count": 101,
   "metadata": {},
   "outputs": [
    {
     "name": "stderr",
     "output_type": "stream",
     "text": [
      "D:\\Python\\lib\\site-packages\\ipykernel_launcher.py:2: UserWarning: Update your `Conv2D` call to the Keras 2 API: `Conv2D(64, (3, 3), input_shape=(256, 256,..., activation=\"relu\")`\n",
      "  \n",
      "D:\\Python\\lib\\site-packages\\ipykernel_launcher.py:3: UserWarning: Update your `Conv2D` call to the Keras 2 API: `Conv2D(32, (3, 3), activation=\"relu\")`\n",
      "  This is separate from the ipykernel package so we can avoid doing imports until\n",
      "D:\\Python\\lib\\site-packages\\ipykernel_launcher.py:6: UserWarning: Update your `Dense` call to the Keras 2 API: `Dense(activation=\"sigmoid\", units=2)`\n",
      "  \n"
     ]
    }
   ],
   "source": [
    "classifier=Sequential()\n",
    "classifier.add(Conv2D(64,3,3,input_shape=(256,256,1),activation='relu'))\n",
    "classifier.add(Conv2D(32,3,3,activation='relu'))\n",
    "#classifier.add(MaxPooling2D(pool_size=(2,2)))\n",
    "classifier.add(Flatten())\n",
    "classifier.add(Dense(output_dim=2,activation='sigmoid'))\n",
    "classifier.compile(optimizer='adam',loss='categorical_crossentropy',metrics=['accuracy'])"
   ]
  },
  {
   "cell_type": "code",
   "execution_count": 102,
   "metadata": {},
   "outputs": [],
   "source": [
    "X_train = X_train.reshape(286,256,256,1)\n",
    "X_test = X_test.reshape(72,256,256,1)\n",
    "from keras.preprocessing.image import ImageDataGenerator\n",
    "from keras.utils import to_categorical\n",
    "y_train = to_categorical(y_train)\n",
    "y_test = to_categorical(y_test)"
   ]
  },
  {
   "cell_type": "code",
   "execution_count": 103,
   "metadata": {},
   "outputs": [
    {
     "name": "stdout",
     "output_type": "stream",
     "text": [
      "Train on 286 samples, validate on 72 samples\n",
      "Epoch 1/3\n",
      "286/286 [==============================] - 79s 277ms/step - loss: 1.1517 - acc: 0.8741 - val_loss: 0.4477 - val_acc: 0.9722\n",
      "Epoch 2/3\n",
      "286/286 [==============================] - 80s 281ms/step - loss: 0.4509 - acc: 0.9720 - val_loss: 0.4477 - val_acc: 0.9722\n",
      "Epoch 3/3\n",
      "286/286 [==============================] - 78s 273ms/step - loss: 0.4509 - acc: 0.9720 - val_loss: 0.4477 - val_acc: 0.9722\n"
     ]
    },
    {
     "data": {
      "text/plain": [
       "<keras.callbacks.History at 0x21449f92390>"
      ]
     },
     "execution_count": 103,
     "metadata": {},
     "output_type": "execute_result"
    }
   ],
   "source": [
    "classifier.fit(X_train, y_train, validation_data=(X_test, y_test), epochs=3)"
   ]
  },
  {
   "cell_type": "code",
   "execution_count": 104,
   "metadata": {},
   "outputs": [
    {
     "name": "stdout",
     "output_type": "stream",
     "text": [
      "72/72 [==============================] - 6s 82ms/step\n"
     ]
    },
    {
     "data": {
      "text/plain": [
       "[0.44772493839263916, 0.9722222222222222]"
      ]
     },
     "execution_count": 104,
     "metadata": {},
     "output_type": "execute_result"
    }
   ],
   "source": [
    "classifier.evaluate(X_test, y_test)"
   ]
  },
  {
   "cell_type": "code",
   "execution_count": 105,
   "metadata": {},
   "outputs": [],
   "source": [
    "model = Sequential()\n",
    "model.add(Conv2D(32, kernel_size = (3, 3), activation='relu', input_shape=(256,256,1)))\n",
    "model.add(MaxPooling2D(pool_size=(2,2)))\n",
    "model.add(BatchNormalization())\n",
    "model.add(Conv2D(64, kernel_size=(3,3), activation='relu'))\n",
    "model.add(MaxPooling2D(pool_size=(2,2)))\n",
    "model.add(BatchNormalization())\n",
    "model.add(Conv2D(96, kernel_size=(3,3), activation='relu'))\n",
    "model.add(MaxPooling2D(pool_size=(2,2)))\n",
    "model.add(BatchNormalization())\n",
    "model.add(Conv2D(96, kernel_size=(3,3), activation='relu'))\n",
    "model.add(MaxPooling2D(pool_size=(2,2)))\n",
    "model.add(BatchNormalization())\n",
    "model.add(Conv2D(96, kernel_size=(3,3), activation='relu'))\n",
    "model.add(MaxPooling2D(pool_size=(2,2)))\n",
    "model.add(BatchNormalization())\n",
    "model.add(Conv2D(64, kernel_size=(3,3), activation='relu'))\n",
    "model.add(MaxPooling2D(pool_size=(2,2)))\n",
    "model.add(BatchNormalization())\n",
    "model.add(Dropout(0.2))\n",
    "model.add(Flatten())\n",
    "model.add(Dense(256, activation='relu'))\n",
    "model.add(Dropout(0.2))\n",
    "model.add(Dense(128, activation='relu'))\n",
    "#model.add(Dense(128, activation='relu'))\n",
    "#model.add(Dropout(0.3))\n",
    "model.add(Dense(2, activation = 'sigmoid'))"
   ]
  },
  {
   "cell_type": "code",
   "execution_count": 106,
   "metadata": {},
   "outputs": [
    {
     "name": "stdout",
     "output_type": "stream",
     "text": [
      "_________________________________________________________________\n",
      "Layer (type)                 Output Shape              Param #   \n",
      "=================================================================\n",
      "conv2d_37 (Conv2D)           (None, 254, 254, 32)      320       \n",
      "_________________________________________________________________\n",
      "max_pooling2d_25 (MaxPooling (None, 127, 127, 32)      0         \n",
      "_________________________________________________________________\n",
      "batch_normalization_25 (Batc (None, 127, 127, 32)      128       \n",
      "_________________________________________________________________\n",
      "conv2d_38 (Conv2D)           (None, 125, 125, 64)      18496     \n",
      "_________________________________________________________________\n",
      "max_pooling2d_26 (MaxPooling (None, 62, 62, 64)        0         \n",
      "_________________________________________________________________\n",
      "batch_normalization_26 (Batc (None, 62, 62, 64)        256       \n",
      "_________________________________________________________________\n",
      "conv2d_39 (Conv2D)           (None, 60, 60, 96)        55392     \n",
      "_________________________________________________________________\n",
      "max_pooling2d_27 (MaxPooling (None, 30, 30, 96)        0         \n",
      "_________________________________________________________________\n",
      "batch_normalization_27 (Batc (None, 30, 30, 96)        384       \n",
      "_________________________________________________________________\n",
      "conv2d_40 (Conv2D)           (None, 28, 28, 96)        83040     \n",
      "_________________________________________________________________\n",
      "max_pooling2d_28 (MaxPooling (None, 14, 14, 96)        0         \n",
      "_________________________________________________________________\n",
      "batch_normalization_28 (Batc (None, 14, 14, 96)        384       \n",
      "_________________________________________________________________\n",
      "conv2d_41 (Conv2D)           (None, 12, 12, 96)        83040     \n",
      "_________________________________________________________________\n",
      "max_pooling2d_29 (MaxPooling (None, 6, 6, 96)          0         \n",
      "_________________________________________________________________\n",
      "batch_normalization_29 (Batc (None, 6, 6, 96)          384       \n",
      "_________________________________________________________________\n",
      "conv2d_42 (Conv2D)           (None, 4, 4, 64)          55360     \n",
      "_________________________________________________________________\n",
      "max_pooling2d_30 (MaxPooling (None, 2, 2, 64)          0         \n",
      "_________________________________________________________________\n",
      "batch_normalization_30 (Batc (None, 2, 2, 64)          256       \n",
      "_________________________________________________________________\n",
      "dropout_9 (Dropout)          (None, 2, 2, 64)          0         \n",
      "_________________________________________________________________\n",
      "flatten_11 (Flatten)         (None, 256)               0         \n",
      "_________________________________________________________________\n",
      "dense_19 (Dense)             (None, 256)               65792     \n",
      "_________________________________________________________________\n",
      "dropout_10 (Dropout)         (None, 256)               0         \n",
      "_________________________________________________________________\n",
      "dense_20 (Dense)             (None, 128)               32896     \n",
      "_________________________________________________________________\n",
      "dense_21 (Dense)             (None, 2)                 258       \n",
      "=================================================================\n",
      "Total params: 396,386\n",
      "Trainable params: 395,490\n",
      "Non-trainable params: 896\n",
      "_________________________________________________________________\n"
     ]
    }
   ],
   "source": [
    "model.summary()"
   ]
  },
  {
   "cell_type": "code",
   "execution_count": 107,
   "metadata": {},
   "outputs": [],
   "source": [
    "model.compile(loss='categorical_crossentropy', optimizer='adam', metrics = ['accuracy'])"
   ]
  },
  {
   "cell_type": "code",
   "execution_count": 108,
   "metadata": {},
   "outputs": [
    {
     "name": "stdout",
     "output_type": "stream",
     "text": [
      "Epoch 1/10\n",
      "286/286 [==============================] - 59s 207ms/step - loss: 0.2429 - acc: 0.9406\n",
      "Epoch 2/10\n",
      "286/286 [==============================] - 53s 187ms/step - loss: 0.1414 - acc: 0.9720\n",
      "Epoch 3/10\n",
      "286/286 [==============================] - 52s 181ms/step - loss: 0.0820 - acc: 0.9720\n",
      "Epoch 4/10\n",
      "286/286 [==============================] - 53s 187ms/step - loss: 0.0589 - acc: 0.9720\n",
      "Epoch 5/10\n",
      "286/286 [==============================] - 54s 189ms/step - loss: 0.0476 - acc: 0.9720\n",
      "Epoch 6/10\n",
      "286/286 [==============================] - 55s 191ms/step - loss: 0.0323 - acc: 0.9755\n",
      "Epoch 7/10\n",
      "286/286 [==============================] - 57s 198ms/step - loss: 0.0281 - acc: 0.9790\n",
      "Epoch 8/10\n",
      "286/286 [==============================] - 56s 198ms/step - loss: 0.0212 - acc: 0.9895\n",
      "Epoch 9/10\n",
      "286/286 [==============================] - 66s 229ms/step - loss: 0.0200 - acc: 0.9930\n",
      "Epoch 10/10\n",
      "286/286 [==============================] - 63s 221ms/step - loss: 0.0176 - acc: 0.9930\n"
     ]
    },
    {
     "data": {
      "text/plain": [
       "<keras.callbacks.History at 0x21434fb1e48>"
      ]
     },
     "execution_count": 108,
     "metadata": {},
     "output_type": "execute_result"
    }
   ],
   "source": [
    "model.fit(X_train,y_train,epochs = 10, validation_steps=None,verbose = 1,batch_size=50)"
   ]
  },
  {
   "cell_type": "code",
   "execution_count": 109,
   "metadata": {},
   "outputs": [
    {
     "name": "stdout",
     "output_type": "stream",
     "text": [
      "72/72 [==============================] - 5s 68ms/step\n"
     ]
    },
    {
     "data": {
      "text/plain": [
       "[0.14849693711019224, 0.9722222222222222]"
      ]
     },
     "execution_count": 109,
     "metadata": {},
     "output_type": "execute_result"
    }
   ],
   "source": [
    "model.evaluate(X_test, y_test)"
   ]
  },
  {
   "cell_type": "code",
   "execution_count": 110,
   "metadata": {},
   "outputs": [
    {
     "name": "stdout",
     "output_type": "stream",
     "text": [
      "97.22222222222221\n"
     ]
    }
   ],
   "source": [
    "loss,acc = model.evaluate(X_test, y_test, verbose = 0)\n",
    "print(acc * 100)"
   ]
  },
  {
   "cell_type": "code",
   "execution_count": 111,
   "metadata": {},
   "outputs": [
    {
     "name": "stdout",
     "output_type": "stream",
     "text": [
      "              precision    recall  f1-score   support\n",
      "\n",
      "           0       0.00      0.00      0.00         2\n",
      "           1       0.97      1.00      0.99        70\n",
      "\n",
      "   micro avg       0.97      0.97      0.97        72\n",
      "   macro avg       0.49      0.50      0.49        72\n",
      "weighted avg       0.95      0.97      0.96        72\n",
      "\n"
     ]
    },
    {
     "data": {
      "text/plain": [
       "array([[ 0,  2],\n",
       "       [ 0, 70]], dtype=int64)"
      ]
     },
     "execution_count": 111,
     "metadata": {},
     "output_type": "execute_result"
    }
   ],
   "source": [
    "predictions=model.predict(X_test)\n",
    "Pred_Max_Positions=[]\n",
    "for i in range(72):\n",
    "    res=max(predictions[i])\n",
    "    #print(res)\n",
    "    for j in range(2):\n",
    "        if (res==predictions[i][j]):\n",
    "            result=j+1\n",
    "            Pred_Max_Positions.append(j)\n",
    "#Pred_Max_Positions\n",
    "\n",
    "Test_Max_Positions=[]\n",
    "for i in range(72):\n",
    "    res=max(y_test[i])\n",
    "    #print(res)\n",
    "    for j in range(2):\n",
    "        if (res==y_test[i][j]):\n",
    "            result=j\n",
    "            Test_Max_Positions.append(j)\n",
    "#Test_Max_Positions\n",
    "\n",
    "from sklearn.metrics import classification_report\n",
    "print(classification_report(Test_Max_Positions,Pred_Max_Positions))\n",
    "\n",
    "from sklearn.metrics import confusion_matrix\n",
    "CM_CNN_3=confusion_matrix(Test_Max_Positions,Pred_Max_Positions)\n",
    "CM_CNN_3\n",
    "\n"
   ]
  },
  {
   "cell_type": "code",
   "execution_count": null,
   "metadata": {},
   "outputs": [],
   "source": []
  },
  {
   "cell_type": "code",
   "execution_count": null,
   "metadata": {},
   "outputs": [],
   "source": []
  },
  {
   "cell_type": "code",
   "execution_count": null,
   "metadata": {},
   "outputs": [],
   "source": []
  },
  {
   "cell_type": "code",
   "execution_count": null,
   "metadata": {},
   "outputs": [],
   "source": []
  },
  {
   "cell_type": "code",
   "execution_count": null,
   "metadata": {},
   "outputs": [],
   "source": []
  },
  {
   "cell_type": "code",
   "execution_count": null,
   "metadata": {},
   "outputs": [],
   "source": []
  },
  {
   "cell_type": "code",
   "execution_count": null,
   "metadata": {},
   "outputs": [],
   "source": []
  },
  {
   "cell_type": "code",
   "execution_count": null,
   "metadata": {},
   "outputs": [],
   "source": []
  },
  {
   "cell_type": "code",
   "execution_count": null,
   "metadata": {},
   "outputs": [],
   "source": []
  },
  {
   "cell_type": "code",
   "execution_count": null,
   "metadata": {},
   "outputs": [],
   "source": [
    "#Drink"
   ]
  },
  {
   "cell_type": "code",
   "execution_count": 112,
   "metadata": {},
   "outputs": [],
   "source": [
    "def label_img(name):\n",
    "    word_label = name.split('(')[0]\n",
    "    #print(word_label)\n",
    "    if word_label == 'Burger ':  return 1\n",
    "    elif word_label == 'pizza ': return 1\n",
    "    elif word_label == 'Chicken ': return 1\n",
    "    elif word_label == 'Sweet ': return 1\n",
    "    elif word_label == 'Tacos ': return 1\n",
    "    elif word_label == 'Drink ': return 0"
   ]
  },
  {
   "cell_type": "code",
   "execution_count": 113,
   "metadata": {},
   "outputs": [],
   "source": [
    "IMG_SIZE = 256\n",
    "def load_training_data():\n",
    "    train_data = []\n",
    "    for img in os.listdir(DIR):\n",
    "        label = label_img(img)\n",
    "        path = os.path.join(DIR, img)\n",
    "        if \"DS_Store\" not in path:\n",
    "            img = Image.open(path)\n",
    "            img = img.convert('L')\n",
    "            img = img.resize((IMG_SIZE, IMG_SIZE), Image.ANTIALIAS)\n",
    "            train_data.append([np.array(img), label])\n",
    "            X_train=np.array(img)\n",
    "            Y_train=label\n",
    "    shuffle(train_data)\n",
    "    return train_data"
   ]
  },
  {
   "cell_type": "code",
   "execution_count": 114,
   "metadata": {},
   "outputs": [],
   "source": [
    "train_data = np.array(load_training_data())\n",
    "y=len(train_data)\n",
    "X=[]\n",
    "Y=[]"
   ]
  },
  {
   "cell_type": "code",
   "execution_count": 115,
   "metadata": {},
   "outputs": [],
   "source": [
    "for i in range(y-1):\n",
    "    img=np.array((train_data[i][0]).reshape(256,256))\n",
    "    X.append(img)\n",
    "    label=np.array(train_data[i][1])\n",
    "    Y.append(label)"
   ]
  },
  {
   "cell_type": "code",
   "execution_count": 116,
   "metadata": {},
   "outputs": [],
   "source": [
    "from sklearn.model_selection import train_test_split\n",
    "X_train, X_test, y_train, y_test = train_test_split(X, Y,\n",
    "                                                    random_state=42,\n",
    "                                                    test_size=0.20)"
   ]
  },
  {
   "cell_type": "code",
   "execution_count": 117,
   "metadata": {},
   "outputs": [],
   "source": [
    "X_train=np.array(X_train)\n",
    "y_train=np.array(y_train)\n",
    "X_test=np.array(X_test)\n",
    "y_test=np.array(y_test)"
   ]
  },
  {
   "cell_type": "code",
   "execution_count": 118,
   "metadata": {
    "scrolled": true
   },
   "outputs": [
    {
     "name": "stderr",
     "output_type": "stream",
     "text": [
      "D:\\Python\\lib\\site-packages\\ipykernel_launcher.py:2: UserWarning: Update your `Conv2D` call to the Keras 2 API: `Conv2D(64, (3, 3), input_shape=(256, 256,..., activation=\"relu\")`\n",
      "  \n",
      "D:\\Python\\lib\\site-packages\\ipykernel_launcher.py:3: UserWarning: Update your `Conv2D` call to the Keras 2 API: `Conv2D(32, (3, 3), activation=\"relu\")`\n",
      "  This is separate from the ipykernel package so we can avoid doing imports until\n",
      "D:\\Python\\lib\\site-packages\\ipykernel_launcher.py:6: UserWarning: Update your `Dense` call to the Keras 2 API: `Dense(activation=\"sigmoid\", units=2)`\n",
      "  \n"
     ]
    }
   ],
   "source": [
    "classifier=Sequential()\n",
    "classifier.add(Conv2D(64,3,3,input_shape=(256,256,1),activation='relu'))\n",
    "classifier.add(Conv2D(32,3,3,activation='relu'))\n",
    "#classifier.add(MaxPooling2D(pool_size=(2,2)))\n",
    "classifier.add(Flatten())\n",
    "classifier.add(Dense(output_dim=2,activation='sigmoid'))\n",
    "classifier.compile(optimizer='adam',loss='categorical_crossentropy',metrics=['accuracy'])"
   ]
  },
  {
   "cell_type": "code",
   "execution_count": 119,
   "metadata": {},
   "outputs": [],
   "source": [
    "X_train = X_train.reshape(286,256,256,1)\n",
    "X_test = X_test.reshape(72,256,256,1)\n",
    "from keras.preprocessing.image import ImageDataGenerator\n",
    "from keras.utils import to_categorical\n",
    "y_train = to_categorical(y_train)\n",
    "y_test = to_categorical(y_test)"
   ]
  },
  {
   "cell_type": "code",
   "execution_count": 120,
   "metadata": {
    "scrolled": true
   },
   "outputs": [
    {
     "name": "stdout",
     "output_type": "stream",
     "text": [
      "Train on 286 samples, validate on 72 samples\n",
      "Epoch 1/3\n",
      "286/286 [==============================] - 100s 351ms/step - loss: 5.0143 - acc: 0.6888 - val_loss: 4.7011 - val_acc: 0.7083\n",
      "Epoch 2/3\n",
      "286/286 [==============================] - 92s 321ms/step - loss: 4.4522 - acc: 0.7238 - val_loss: 4.7011 - val_acc: 0.7083\n",
      "Epoch 3/3\n",
      "286/286 [==============================] - 95s 332ms/step - loss: 4.4522 - acc: 0.7238 - val_loss: 4.7011 - val_acc: 0.7083\n"
     ]
    },
    {
     "data": {
      "text/plain": [
       "<keras.callbacks.History at 0x2144dc69ef0>"
      ]
     },
     "execution_count": 120,
     "metadata": {},
     "output_type": "execute_result"
    }
   ],
   "source": [
    "classifier.fit(X_train, y_train, validation_data=(X_test, y_test), epochs=3)"
   ]
  },
  {
   "cell_type": "code",
   "execution_count": 121,
   "metadata": {},
   "outputs": [
    {
     "name": "stdout",
     "output_type": "stream",
     "text": [
      "72/72 [==============================] - 7s 98ms/step\n"
     ]
    },
    {
     "data": {
      "text/plain": [
       "[4.7011111577351885, 0.7083333333333334]"
      ]
     },
     "execution_count": 121,
     "metadata": {},
     "output_type": "execute_result"
    }
   ],
   "source": [
    "classifier.evaluate(X_test, y_test)"
   ]
  },
  {
   "cell_type": "code",
   "execution_count": 122,
   "metadata": {},
   "outputs": [],
   "source": [
    "model = Sequential()\n",
    "model.add(Conv2D(32, kernel_size = (3, 3), activation='relu', input_shape=(256,256,1)))\n",
    "model.add(MaxPooling2D(pool_size=(2,2)))\n",
    "model.add(BatchNormalization())\n",
    "model.add(Conv2D(64, kernel_size=(3,3), activation='relu'))\n",
    "model.add(MaxPooling2D(pool_size=(2,2)))\n",
    "model.add(BatchNormalization())\n",
    "model.add(Conv2D(96, kernel_size=(3,3), activation='relu'))\n",
    "model.add(MaxPooling2D(pool_size=(2,2)))\n",
    "model.add(BatchNormalization())\n",
    "model.add(Conv2D(96, kernel_size=(3,3), activation='relu'))\n",
    "model.add(MaxPooling2D(pool_size=(2,2)))\n",
    "model.add(BatchNormalization())\n",
    "model.add(Conv2D(96, kernel_size=(3,3), activation='relu'))\n",
    "model.add(MaxPooling2D(pool_size=(2,2)))\n",
    "model.add(BatchNormalization())\n",
    "model.add(Conv2D(64, kernel_size=(3,3), activation='relu'))\n",
    "model.add(MaxPooling2D(pool_size=(2,2)))\n",
    "model.add(BatchNormalization())\n",
    "model.add(Dropout(0.2))\n",
    "model.add(Flatten())\n",
    "model.add(Dense(256, activation='relu'))\n",
    "model.add(Dropout(0.2))\n",
    "model.add(Dense(128, activation='relu'))\n",
    "#model.add(Dense(128, activation='relu'))\n",
    "#model.add(Dropout(0.3))\n",
    "model.add(Dense(2, activation = 'sigmoid'))"
   ]
  },
  {
   "cell_type": "code",
   "execution_count": 123,
   "metadata": {},
   "outputs": [],
   "source": [
    "model.compile(loss='categorical_crossentropy', optimizer='adam', metrics = ['accuracy'])"
   ]
  },
  {
   "cell_type": "code",
   "execution_count": 124,
   "metadata": {},
   "outputs": [
    {
     "name": "stdout",
     "output_type": "stream",
     "text": [
      "Epoch 1/10\n",
      "286/286 [==============================] - 69s 242ms/step - loss: 0.5797 - acc: 0.6888\n",
      "Epoch 2/10\n",
      "286/286 [==============================] - 64s 223ms/step - loss: 0.3763 - acc: 0.8042\n",
      "Epoch 3/10\n",
      "286/286 [==============================] - 62s 218ms/step - loss: 0.2821 - acc: 0.8776\n",
      "Epoch 4/10\n",
      "286/286 [==============================] - 65s 226ms/step - loss: 0.2241 - acc: 0.8916\n",
      "Epoch 5/10\n",
      "286/286 [==============================] - 64s 224ms/step - loss: 0.1732 - acc: 0.9091\n",
      "Epoch 6/10\n",
      "286/286 [==============================] - 65s 228ms/step - loss: 0.1685 - acc: 0.9336\n",
      "Epoch 7/10\n",
      "286/286 [==============================] - 50s 177ms/step - loss: 0.0812 - acc: 0.9790\n",
      "Epoch 8/10\n",
      "286/286 [==============================] - 40s 139ms/step - loss: 0.0416 - acc: 0.9860\n",
      "Epoch 9/10\n",
      "286/286 [==============================] - 40s 141ms/step - loss: 0.0513 - acc: 0.9825\n",
      "Epoch 10/10\n",
      "286/286 [==============================] - 41s 142ms/step - loss: 0.0657 - acc: 0.9755\n"
     ]
    },
    {
     "data": {
      "text/plain": [
       "<keras.callbacks.History at 0x2145766f198>"
      ]
     },
     "execution_count": 124,
     "metadata": {},
     "output_type": "execute_result"
    }
   ],
   "source": [
    "model.fit(X_train,y_train,epochs = 10, validation_steps=None,verbose = 1,batch_size=50)"
   ]
  },
  {
   "cell_type": "code",
   "execution_count": 125,
   "metadata": {},
   "outputs": [
    {
     "name": "stdout",
     "output_type": "stream",
     "text": [
      "72/72 [==============================] - 3s 38ms/step\n"
     ]
    },
    {
     "data": {
      "text/plain": [
       "[0.7480051318804423, 0.8333333333333334]"
      ]
     },
     "execution_count": 125,
     "metadata": {},
     "output_type": "execute_result"
    }
   ],
   "source": [
    "model.evaluate(X_test, y_test)"
   ]
  },
  {
   "cell_type": "code",
   "execution_count": 126,
   "metadata": {},
   "outputs": [
    {
     "name": "stdout",
     "output_type": "stream",
     "text": [
      "83.33333333333334\n"
     ]
    }
   ],
   "source": [
    "loss,acc = model.evaluate(X_test, y_test, verbose = 0)\n",
    "print(acc * 100)"
   ]
  },
  {
   "cell_type": "code",
   "execution_count": 127,
   "metadata": {},
   "outputs": [
    {
     "name": "stdout",
     "output_type": "stream",
     "text": [
      "              precision    recall  f1-score   support\n",
      "\n",
      "           0       0.71      0.71      0.71        21\n",
      "           1       0.88      0.88      0.88        51\n",
      "\n",
      "   micro avg       0.83      0.83      0.83        72\n",
      "   macro avg       0.80      0.80      0.80        72\n",
      "weighted avg       0.83      0.83      0.83        72\n",
      "\n"
     ]
    },
    {
     "data": {
      "text/plain": [
       "array([[15,  6],\n",
       "       [ 6, 45]], dtype=int64)"
      ]
     },
     "execution_count": 127,
     "metadata": {},
     "output_type": "execute_result"
    }
   ],
   "source": [
    "predictions=model.predict(X_test)\n",
    "Pred_Max_Positions=[]\n",
    "for i in range(72):\n",
    "    res=max(predictions[i])\n",
    "    #print(res)\n",
    "    for j in range(2):\n",
    "        if (res==predictions[i][j]):\n",
    "            result=j+1\n",
    "            Pred_Max_Positions.append(j)\n",
    "#Pred_Max_Positions\n",
    "\n",
    "Test_Max_Positions=[]\n",
    "for i in range(72):\n",
    "    res=max(y_test[i])\n",
    "    #print(res)\n",
    "    for j in range(2):\n",
    "        if (res==y_test[i][j]):\n",
    "            result=j\n",
    "            Test_Max_Positions.append(j)\n",
    "#Test_Max_Positions\n",
    "\n",
    "from sklearn.metrics import classification_report\n",
    "print(classification_report(Test_Max_Positions,Pred_Max_Positions))\n",
    "\n",
    "from sklearn.metrics import confusion_matrix\n",
    "CM_CNN_3=confusion_matrix(Test_Max_Positions,Pred_Max_Positions)\n",
    "CM_CNN_3\n",
    "\n"
   ]
  },
  {
   "cell_type": "code",
   "execution_count": 128,
   "metadata": {},
   "outputs": [],
   "source": [
    "from sklearn.metrics import roc_curve\n",
    "fpr,tpr,threshold=roc_curve(Test_Max_Positions,Pred_Max_Positions)"
   ]
  },
  {
   "cell_type": "code",
   "execution_count": 129,
   "metadata": {},
   "outputs": [
    {
     "data": {
      "image/png": "[encoded data removed]",
      "text/plain": [
       "<Figure size 432x288 with 1 Axes>"
      ]
     },
     "metadata": {
      "needs_background": "light"
     },
     "output_type": "display_data"
    }
   ],
   "source": [
    "plt.xlabel(\"Precision\")\n",
    "plt.ylabel(\"Recall\")\n",
    "plt.plot(fpr,tpr)\n",
    "plt.show()"
   ]
  },
  {
   "cell_type": "code",
   "execution_count": 131,
   "metadata": {},
   "outputs": [
    {
     "data": {
      "text/plain": [
       "[<matplotlib.lines.Line2D at 0x2145f1e9898>]"
      ]
     },
     "execution_count": 131,
     "metadata": {},
     "output_type": "execute_result"
    },
    {
     "data": {
      "image/png": "[encoded data removed]",
      "text/plain": [
       "<Figure size 432x288 with 1 Axes>"
      ]
     },
     "metadata": {
      "needs_background": "light"
     },
     "output_type": "display_data"
    }
   ],
   "source": [
    "from sklearn.metrics import precision_recall_curve\n",
    "import matplotlib.pyplot as plt\n",
    "from sklearn.utils.fixes import signature\n",
    "\n",
    "precision, recall, _ = precision_recall_curve(Test_Max_Positions,Pred_Max_Positions)\n",
    "plt.plot(precision,recall)"
   ]
  },
  {
   "cell_type": "code",
   "execution_count": null,
   "metadata": {},
   "outputs": [],
   "source": []
  },
  {
   "cell_type": "code",
   "execution_count": null,
   "metadata": {},
   "outputs": [],
   "source": []
  },
  {
   "cell_type": "code",
   "execution_count": null,
   "metadata": {},
   "outputs": [],
   "source": []
  },
  {
   "cell_type": "code",
   "execution_count": null,
   "metadata": {},
   "outputs": [],
   "source": []
  },
  {
   "cell_type": "code",
   "execution_count": null,
   "metadata": {},
   "outputs": [],
   "source": []
  },
  {
   "cell_type": "code",
   "execution_count": null,
   "metadata": {},
   "outputs": [],
   "source": []
  }
 ],
 "metadata": {
  "kernelspec": {
   "display_name": "Python 3",
   "language": "python",
   "name": "python3"
  },
  "language_info": {
   "codemirror_mode": {
    "name": "ipython",
    "version": 3
   },
   "file_extension": ".py",
   "mimetype": "text/x-python",
   "name": "python",
   "nbconvert_exporter": "python",
   "pygments_lexer": "ipython3",
   "version": "3.7.3"
  }
 },
 "nbformat": 4,
 "nbformat_minor": 2
}
